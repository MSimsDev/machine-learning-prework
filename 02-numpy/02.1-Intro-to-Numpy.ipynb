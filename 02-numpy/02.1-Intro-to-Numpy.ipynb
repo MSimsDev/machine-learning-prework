{
  "cells": [
    {
      "cell_type": "markdown",
      "metadata": {
        "id": "view-in-github",
        "colab_type": "text"
      },
      "source": [
        "<a href=\"https://colab.research.google.com/github/MSimsDev/machine-learning-prework/blob/main/02-numpy/02.1-Intro-to-Numpy.ipynb\" target=\"_parent\"><img src=\"https://colab.research.google.com/assets/colab-badge.svg\" alt=\"Open In Colab\"/></a>"
      ]
    },
    {
      "cell_type": "markdown",
      "id": "bdfbcacc",
      "metadata": {
        "id": "bdfbcacc"
      },
      "source": [
        "![NumPy logo](https://github.com/4GeeksAcademy/machine-learning-prework/blob/main/02-numpy/assets/numpy_logo.png?raw=true)\n",
        "\n",
        "## Introduction to NumPy\n",
        "\n",
        "**NumPy** means **Numerical Python**. It is an open-source library used to perform mathematical tasks with very high efficiency. In addition, it introduces data structures, such as multidimensional arrays, which can be operated on at a high level, without getting too much into the details.\n",
        "\n",
        "Specifically, the keys to this library are:\n",
        "\n",
        "- **Multidimensional arrays**: This library provides an object called `ndarray`, which allows you to store and manipulate large data sets efficiently. Arrays can have any number of dimensions.\n",
        "- **Vectorized operations**: NumPy allows performing mathematical operations on complete arrays without the need for explicit loops in the code, which makes it very fast and efficient.\n",
        "- **Mathematical functions**: NumPy provides a wide range of mathematical functions for working with arrays, including trigonometric functions, statistics, and linear algebra, among others.\n",
        "- **Efficiency**: It is much faster than the same functionality implemented directly on native Python. It is also very flexible in terms of accessing and manipulating individual elements or subsets of arrays.\n",
        "\n",
        "NumPy is a fundamental library for Machine Learning and data science in Python. It provides a wide range of tools and functions to work efficiently with numerical data in the form of arrays and matrices."
      ]
    },
    {
      "cell_type": "markdown",
      "id": "dc410026",
      "metadata": {
        "id": "dc410026"
      },
      "source": [
        "### Arrays\n",
        "\n",
        "A NumPy **array** is a data structure that allows you to store a collection of elements, usually numbers, in one or more dimensions.\n",
        "\n",
        "#### One-dimensional Array\n",
        "\n",
        "A one-dimensional (1D) array in NumPy is a data structure that contains a sequence of elements in a single dimension. It is similar to a list in Python, but with the performance and functionality advantages offered by NumPy.\n",
        "\n",
        "![One dimensional array](https://github.com/4GeeksAcademy/machine-learning-prework/blob/main/02-numpy/assets/1D.png?raw=true \"1D\")\n",
        "\n",
        "A 1D array can be created using the `array` function of the library with a list of elements as an argument. For example:"
      ]
    },
    {
      "cell_type": "code",
      "execution_count": 1,
      "id": "d8a0686b",
      "metadata": {
        "id": "d8a0686b",
        "outputId": "6bafda97-5caa-4f0d-89fa-bba085af7d1d",
        "colab": {
          "base_uri": "https://localhost:8080/"
        }
      },
      "outputs": [
        {
          "output_type": "execute_result",
          "data": {
            "text/plain": [
              "array([1, 2, 3, 4, 5])"
            ]
          },
          "metadata": {},
          "execution_count": 1
        }
      ],
      "source": [
        "import numpy as np\n",
        "\n",
        "array = np.array([1, 2, 3, 4, 5])\n",
        "array"
      ]
    },
    {
      "cell_type": "markdown",
      "id": "e090f7a0",
      "metadata": {
        "id": "e090f7a0"
      },
      "source": [
        "This will create a 1D array with elements 1, 2, 3, 4 and 5. The array elements must be of the same data type. If the elements are of different types, NumPy will try to convert them to the same type if possible.\n",
        "\n",
        "In a 1D array, we can access the elements using **indexes**, modify them and perform mathematical operations on the whole array efficiently. Below are some operations that can be performed using the above array:"
      ]
    },
    {
      "cell_type": "code",
      "source": [],
      "metadata": {
        "id": "8Z_bYvlPEouT"
      },
      "id": "8Z_bYvlPEouT",
      "execution_count": null,
      "outputs": []
    },
    {
      "cell_type": "code",
      "execution_count": 4,
      "metadata": {
        "outputId": "ba7d25b3-9702-441f-a2c6-b9da1fa1e78a",
        "colab": {
          "base_uri": "https://localhost:8080/"
        },
        "id": "9yL2Qi13Esle"
      },
      "outputs": [
        {
          "output_type": "stream",
          "name": "stdout",
          "text": [
            "23\n",
            "[21  7 23 24 25]\n",
            "[31 17 33 34 35]\n",
            "150\n"
          ]
        }
      ],
      "source": [
        "\n",
        "print(array[2])\n",
        "\n",
        "array[1] = 7\n",
        "print(array)\n",
        "\n",
        "array += 10\n",
        "print(array)\n",
        "\n",
        "sum_all = np.sum(array)\n",
        "print(sum_all)"
      ],
      "id": "9yL2Qi13Esle"
    },
    {
      "cell_type": "code",
      "execution_count": 3,
      "id": "a56cb1b0",
      "metadata": {
        "colab": {
          "base_uri": "https://localhost:8080/"
        },
        "id": "a56cb1b0",
        "outputId": "91c1053c-70e4-412b-c5d4-1d8112d7af22"
      },
      "outputs": [
        {
          "output_type": "stream",
          "name": "stdout",
          "text": [
            "13\n",
            "[11  7 13 14 15]\n",
            "[21 17 23 24 25]\n",
            "110\n"
          ]
        }
      ],
      "source": [
        "# Access the third element\n",
        "print(array[2])\n",
        "\n",
        "# Change the value of the second element\n",
        "array[1] = 7\n",
        "print(array)\n",
        "\n",
        "# Add 10 to all elements\n",
        "array += 10\n",
        "print(array)\n",
        "\n",
        "# Calculate the sum of the elements\n",
        "sum_all = np.sum(array)\n",
        "print(sum_all)"
      ]
    },
    {
      "cell_type": "markdown",
      "id": "322771b1",
      "metadata": {
        "id": "322771b1"
      },
      "source": [
        "#### N-dimensional Array\n",
        "\n",
        "A multidimensional or n-dimensional array in NumPy is a data structure that organizes elements in multiple dimensions (axes). These arrays allow you to represent more complex data structures, such as matrixes (2D array, 2 axes), tensors (3D array, 3 axes) and higher-dimensional structures.\n",
        "\n",
        "![Arrays of different dimensions](https://github.com/4GeeksAcademy/machine-learning-prework/blob/main/02-numpy/assets/3D.png?raw=true \"3D\")\n",
        "\n",
        "An N-dimensional array can also be created using the `array` function of the library. For example, if we want to create a 2D array:"
      ]
    },
    {
      "cell_type": "code",
      "source": [],
      "metadata": {
        "id": "nLKaZcTsEz5x"
      },
      "id": "nLKaZcTsEz5x",
      "execution_count": 4,
      "outputs": []
    },
    {
      "cell_type": "code",
      "execution_count": null,
      "metadata": {
        "outputId": "5d053272-ccf1-48cc-b30c-753cd97b83a3",
        "id": "QbJrB6S8E28K"
      },
      "outputs": [
        {
          "data": {
            "text/plain": [
              "array([[1, 2, 3],\n",
              "       [4, 5, 6],\n",
              "       [7, 8, 9]])"
            ]
          },
          "execution_count": 3,
          "metadata": {},
          "output_type": "execute_result"
        }
      ],
      "source": [
        "array_2d = np.array([[1, 2, 3], [4, 5, 6], [7, 8, 9]])\n",
        "array_2d"
      ],
      "id": "QbJrB6S8E28K"
    },
    {
      "cell_type": "code",
      "source": [],
      "metadata": {
        "id": "-ETyXaZbFEMJ"
      },
      "id": "-ETyXaZbFEMJ",
      "execution_count": null,
      "outputs": []
    },
    {
      "cell_type": "code",
      "source": [],
      "metadata": {
        "id": "WwnPVKBvEmbk"
      },
      "id": "WwnPVKBvEmbk",
      "execution_count": null,
      "outputs": []
    },
    {
      "cell_type": "code",
      "execution_count": 5,
      "metadata": {
        "outputId": "15e1ba44-70f5-49cd-df82-53d8309c4c6f",
        "id": "zkVkX5McFH1m",
        "colab": {
          "base_uri": "https://localhost:8080/"
        }
      },
      "outputs": [
        {
          "output_type": "execute_result",
          "data": {
            "text/plain": [
              "array([[1, 2, 3],\n",
              "       [4, 5, 6],\n",
              "       [7, 8, 9]])"
            ]
          },
          "metadata": {},
          "execution_count": 5
        }
      ],
      "source": [
        "array_2d = np.array([[1, 2, 3], [4, 5, 6], [7, 8, 9]])\n",
        "array_2d"
      ],
      "id": "zkVkX5McFH1m"
    },
    {
      "cell_type": "code",
      "execution_count": 6,
      "id": "2033ba3c",
      "metadata": {
        "colab": {
          "base_uri": "https://localhost:8080/"
        },
        "id": "2033ba3c",
        "outputId": "3ef568ad-e58e-42fa-9bd7-c92a0143f82c"
      },
      "outputs": [
        {
          "output_type": "execute_result",
          "data": {
            "text/plain": [
              "array([[1, 2, 3],\n",
              "       [4, 5, 6],\n",
              "       [7, 8, 9]])"
            ]
          },
          "metadata": {},
          "execution_count": 6
        }
      ],
      "source": [
        "array_2d = np.array([[1, 2, 3], [4, 5, 6], [7, 8, 9]])\n",
        "array_2d"
      ]
    },
    {
      "cell_type": "markdown",
      "id": "d3dac6c2",
      "metadata": {
        "id": "d3dac6c2"
      },
      "source": [
        "If we now wanted to create a 3D array, we would have to think of it as a list of arrays:"
      ]
    },
    {
      "cell_type": "code",
      "execution_count": 7,
      "id": "bc914841",
      "metadata": {
        "id": "bc914841",
        "outputId": "a938a97d-5ae4-40d6-c283-d04da8748d79",
        "colab": {
          "base_uri": "https://localhost:8080/"
        }
      },
      "outputs": [
        {
          "output_type": "execute_result",
          "data": {
            "text/plain": [
              "array([[[1, 2],\n",
              "        [3, 4]],\n",
              "\n",
              "       [[5, 6],\n",
              "        [7, 8]]])"
            ]
          },
          "metadata": {},
          "execution_count": 7
        }
      ],
      "source": [
        "array_3d = np.array([[[1, 2], [3, 4]], [[5, 6], [7, 8]]])\n",
        "array_3d"
      ]
    },
    {
      "cell_type": "markdown",
      "id": "da7bcb64",
      "metadata": {
        "id": "da7bcb64"
      },
      "source": [
        "As with 1D arrays, the elements in a multidimensional array are accessible via indexes, operations can be performed on them, and so on.\n",
        "\n",
        "As we add more dimensions, the basic principle remains the same: each additional dimension can be considered an additional level of nesting. However, on a practical level, working with arrays of more than 3 or 4 dimensions can become more complex and less intuitive.\n",
        "\n",
        "The n-dimensional arrays in NumPy allow great flexibility and power to represent and manipulate data in more complex ways, especially useful in fields such as data science, image processing and deep learning."
      ]
    },
    {
      "cell_type": "markdown",
      "id": "d699ac98",
      "metadata": {
        "id": "d699ac98"
      },
      "source": [
        "### Functions\n",
        "\n",
        "NumPy provides a large number of predefined functions that can be applied directly to the data structures seen above or to Python's own data structures (lists, arrays, etc.). Some of the most commonly used in data analysis are:"
      ]
    },
    {
      "cell_type": "code",
      "execution_count": 8,
      "id": "e7680306",
      "metadata": {
        "id": "e7680306",
        "outputId": "d1d60d0f-6c8d-4546-8ba5-d76e84828078",
        "colab": {
          "base_uri": "https://localhost:8080/"
        }
      },
      "outputs": [
        {
          "output_type": "stream",
          "name": "stdout",
          "text": [
            "Sum: [ 6  7  8  9 10]\n",
            "Product: [ 3  6  9 12 15]\n",
            "Natural logarithm: [0.         0.69314718 1.09861229 1.38629436 1.60943791]\n",
            "Exponential: [  2.71828183   7.3890561   20.08553692  54.59815003 148.4131591 ]\n",
            "Mean: 3.0\n",
            "Median: 3.0\n",
            "Standard Deviation: 1.4142135623730951\n",
            "Variance: 2.0\n",
            "Maximum value: 5\n",
            "Maximum value index: 4\n",
            "Minimum value: 1\n",
            "Minimum value index: 0\n",
            "Sum of all elements: 15\n",
            "Rounding: [1. 2. 4. 5.]\n",
            "Minor integer (floor): [1. 2. 3. 4.]\n",
            "Major integer (ceil): [2. 3. 4. 5.]\n"
          ]
        }
      ],
      "source": [
        "import numpy as np\n",
        "\n",
        "# Create an array for the example\n",
        "arr = np.array([1, 2, 3, 4, 5])\n",
        "\n",
        "# Arithmetic Operations\n",
        "print(\"Sum:\", np.add(arr, 5))\n",
        "print(\"Product:\", np.multiply(arr, 3))\n",
        "\n",
        "# Logarithmic and Exponential\n",
        "print(\"Natural logarithm:\", np.log(arr))\n",
        "print(\"Exponential:\", np.exp(arr))\n",
        "\n",
        "# Statistical Functions\n",
        "print(\"Mean:\", np.mean(arr))\n",
        "print(\"Median:\", np.median(arr))\n",
        "print(\"Standard Deviation:\", np.std(arr))\n",
        "print(\"Variance:\", np.var(arr))\n",
        "print(\"Maximum value:\", np.max(arr))\n",
        "print(\"Maximum value index:\", np.argmax(arr))\n",
        "print(\"Minimum value:\", np.min(arr))\n",
        "print(\"Minimum value index:\", np.argmin(arr))\n",
        "print(\"Sum of all elements:\", np.sum(arr))\n",
        "\n",
        "# Rounding Functions\n",
        "arr_decimal = np.array([1.23, 2.47, 3.56, 4.89])\n",
        "print(\"Rounding:\", np.around(arr_decimal))\n",
        "print(\"Minor integer (floor):\", np.floor(arr_decimal))\n",
        "print(\"Major integer (ceil):\", np.ceil(arr_decimal))"
      ]
    },
    {
      "cell_type": "markdown",
      "id": "51b5cda3",
      "metadata": {
        "id": "51b5cda3"
      },
      "source": [
        "## Exercises: Click on \"open in colab\" to start practicing\n",
        "\n",
        "> Solution: https://github.com/4GeeksAcademy/machine-learning-prework/blob/main/02-numpy/02.1-Intro-to-Numpy_solutions.ipynb\n",
        "\n",
        "### Array creation"
      ]
    },
    {
      "cell_type": "markdown",
      "id": "e3c20b3d",
      "metadata": {
        "id": "e3c20b3d"
      },
      "source": [
        "#### Exercise 01: Create a **null vector** that contains 10 elements (★☆☆)\n",
        "\n",
        "A null vector is a one-dimensional array composed of zeros (`0`).\n",
        "\n",
        "> NOTE: Check the function `np.zeros` (https://numpy.org/doc/stable/reference/generated/numpy.zeros.html)"
      ]
    },
    {
      "cell_type": "code",
      "execution_count": 9,
      "id": "8a758bcf",
      "metadata": {
        "id": "8a758bcf",
        "outputId": "638246aa-d1e8-49e6-b64c-45ea38dc6f90",
        "colab": {
          "base_uri": "https://localhost:8080/"
        }
      },
      "outputs": [
        {
          "output_type": "stream",
          "name": "stdout",
          "text": [
            "[0. 0. 0. 0. 0. 0. 0. 0. 0. 0.]\n"
          ]
        }
      ],
      "source": [
        "import numpy as np\n",
        "\n",
        "null_vector = np.zeros(10)\n",
        "print(null_vector)\n"
      ]
    },
    {
      "cell_type": "markdown",
      "id": "6cbe7954",
      "metadata": {
        "id": "6cbe7954"
      },
      "source": [
        "#### Exercise 02: Create a vector of ones with 10 elements (★☆☆)\n",
        "\n",
        "> NOTE: Check the function `np.ones` (https://numpy.org/doc/stable/reference/generated/numpy.ones.html)"
      ]
    },
    {
      "cell_type": "code",
      "execution_count": 10,
      "id": "86477874",
      "metadata": {
        "id": "86477874",
        "outputId": "17f5ecb1-fc38-4483-dfa6-ddb519cbec53",
        "colab": {
          "base_uri": "https://localhost:8080/"
        }
      },
      "outputs": [
        {
          "output_type": "stream",
          "name": "stdout",
          "text": [
            "[1. 1. 1. 1. 1. 1. 1. 1. 1. 1.]\n"
          ]
        }
      ],
      "source": [
        "import numpy as np\n",
        "\n",
        "ones_vector = np.ones(10)\n",
        "print(ones_vector)\n"
      ]
    },
    {
      "cell_type": "markdown",
      "id": "0a708990",
      "metadata": {
        "id": "0a708990"
      },
      "source": [
        "#### Exercise 03: Investigate the `linspace` function of NumPy and create an array with 10 elements (★☆☆)\n",
        "\n",
        "> NOTE: Check the function `np.linspace` (https://numpy.org/doc/stable/reference/generated/numpy.linspace.html)"
      ]
    },
    {
      "cell_type": "code",
      "execution_count": 11,
      "id": "477e01f4",
      "metadata": {
        "id": "477e01f4",
        "outputId": "30650db3-0ead-49a5-c774-58139d01239d",
        "colab": {
          "base_uri": "https://localhost:8080/"
        }
      },
      "outputs": [
        {
          "output_type": "stream",
          "name": "stdout",
          "text": [
            "[0.         0.11111111 0.22222222 0.33333333 0.44444444 0.55555556\n",
            " 0.66666667 0.77777778 0.88888889 1.        ]\n"
          ]
        }
      ],
      "source": [
        "import numpy as np\n",
        "\n",
        "array = np.linspace(0, 1, 10)\n",
        "print(array)\n"
      ]
    },
    {
      "cell_type": "markdown",
      "id": "9794fe71",
      "metadata": {
        "id": "9794fe71"
      },
      "source": [
        "#### Exercise 04: Find several ways to generate an array with random numbers and create a 1D array and two 2D arrays (★★☆)\n",
        "\n",
        "> NOTE: Check the functions `np.random.rand` (https://numpy.org/doc/stable/reference/random/generated/numpy.random.rand.html), `np.random.randint` (https://numpy.org/doc/stable/reference/random/generated/numpy.random.randint.html) and `np.random.randn` (https://numpy.org/doc/stable/reference/random/generated/numpy.random.randn.html)"
      ]
    },
    {
      "cell_type": "code",
      "execution_count": 14,
      "id": "3d9a48a7",
      "metadata": {
        "id": "3d9a48a7"
      },
      "outputs": [],
      "source": [
        "import numpy as np\n",
        "\n",
        "arr_1d = np.random.rand(5)\n",
        "\n",
        "arr_2d_1 = np.random.rand(3, 4)\n",
        "\n",
        "arr_2d_2 = np.random.rand(2, 3)\n",
        "\n",
        "arr_1d = np.random.random(5)\n",
        "\n",
        "arr_2d_1 = np.random.random((3, 4))\n",
        "\n",
        "arr_2d_2 = np.random.random((2, 3))\n",
        "\n",
        "rng = np.random.default_rng()\n",
        "\n",
        "arr_1d = rng.random(5)\n",
        "\n",
        "arr_2d_1 = rng.random((3, 4))\n",
        "\n",
        "arr_2d_2 = rng.random((2, 3))"
      ]
    },
    {
      "cell_type": "markdown",
      "id": "78a37e5c",
      "metadata": {
        "id": "78a37e5c"
      },
      "source": [
        "#### Exercise 05: Create a 5x5 identity matrix (2D array) (★☆☆)\n",
        "\n",
        "\n",
        "> NOTE: Check the function `np.eye`(https://numpy.org/devdocs/reference/generated/numpy.eye.html)"
      ]
    },
    {
      "cell_type": "code",
      "execution_count": 15,
      "id": "a6751106",
      "metadata": {
        "id": "a6751106",
        "outputId": "a288c2a2-9b88-486d-dc5f-352af85f02d9",
        "colab": {
          "base_uri": "https://localhost:8080/"
        }
      },
      "outputs": [
        {
          "output_type": "stream",
          "name": "stdout",
          "text": [
            "[[1. 0. 0. 0. 0.]\n",
            " [0. 1. 0. 0. 0.]\n",
            " [0. 0. 1. 0. 0.]\n",
            " [0. 0. 0. 1. 0.]\n",
            " [0. 0. 0. 0. 1.]]\n"
          ]
        }
      ],
      "source": [
        "import numpy as np\n",
        "\n",
        "identity_matrix = np.eye(5)\n",
        "print(identity_matrix)\n"
      ]
    },
    {
      "cell_type": "markdown",
      "id": "08bb63e6",
      "metadata": {
        "id": "08bb63e6"
      },
      "source": [
        "#### Exercise 06: Create a 3x2 random number matrix and calculate the minimum and maximum value (★☆☆)\n",
        "\n",
        "> NOTE: Check the functions `np.min` (https://numpy.org/devdocs/reference/generated/numpy.min.html) and `np.max` (https://numpy.org/devdocs/reference/generated/numpy.max.html)"
      ]
    },
    {
      "cell_type": "code",
      "execution_count": 16,
      "id": "3214cca1",
      "metadata": {
        "id": "3214cca1",
        "outputId": "65c5aaf9-7922-4490-fc35-590e3a732586",
        "colab": {
          "base_uri": "https://localhost:8080/"
        }
      },
      "outputs": [
        {
          "output_type": "stream",
          "name": "stdout",
          "text": [
            "Random 3x2 matrix:\n",
            "[[0.33130554 0.67676501]\n",
            " [0.68096697 0.11414014]\n",
            " [0.43083407 0.30832263]]\n",
            "\n",
            "Minimum value: 0.11414014240958703\n",
            "Maximum value: 0.6809669739350065\n"
          ]
        }
      ],
      "source": [
        "import numpy as np\n",
        "\n",
        "matrix = np.random.rand(3, 2)\n",
        "\n",
        "min_value = np.min(matrix)\n",
        "max_value = np.max(matrix)\n",
        "\n",
        "print(\"Random 3x2 matrix:\")\n",
        "print(matrix)\n",
        "print(f\"\\nMinimum value: {min_value}\")\n",
        "print(f\"Maximum value: {max_value}\")\n"
      ]
    },
    {
      "cell_type": "markdown",
      "id": "57c6c275",
      "metadata": {
        "id": "57c6c275"
      },
      "source": [
        "#### Exercise 07: Create a vector of 30 elements that are random numbers and calculate the mean. (★☆☆)\n",
        "\n",
        "> NOTE: Check the function `np.mean` (https://numpy.org/doc/stable/reference/generated/numpy.mean.html)"
      ]
    },
    {
      "cell_type": "code",
      "execution_count": 17,
      "id": "cc960ba5",
      "metadata": {
        "id": "cc960ba5",
        "outputId": "5a17efbe-8c86-449c-984e-561dd11af6d8",
        "colab": {
          "base_uri": "https://localhost:8080/"
        }
      },
      "outputs": [
        {
          "output_type": "stream",
          "name": "stdout",
          "text": [
            "Random vector:\n",
            "[0.68493179 0.56208822 0.76877087 0.19977465 0.91496974 0.41206978\n",
            " 0.13037122 0.19226209 0.10458525 0.24522598 0.425296   0.77293676\n",
            " 0.03171854 0.5405155  0.04990391 0.00224014 0.77943445 0.39726176\n",
            " 0.08393275 0.73442219 0.15497594 0.5495857  0.5924505  0.11310187\n",
            " 0.59077437 0.30218424 0.20560467 0.38730843 0.45705082 0.09293782]\n",
            "\n",
            "Mean value: 0.38262286555103225\n"
          ]
        }
      ],
      "source": [
        "import numpy as np\n",
        "\n",
        "vector = np.random.rand(30)\n",
        "\n",
        "mean_value = np.mean(vector)\n",
        "\n",
        "print(\"Random vector:\")\n",
        "print(vector)\n",
        "print(f\"\\nMean value: {mean_value}\")\n"
      ]
    },
    {
      "cell_type": "markdown",
      "id": "2c801667",
      "metadata": {
        "id": "2c801667"
      },
      "source": [
        "#### Exercise 08: Converts the list `[1, 2, 3]` and the tuple `(1, 2, 3)` to arrays (★☆☆)"
      ]
    },
    {
      "cell_type": "code",
      "execution_count": 18,
      "id": "3f36c71c",
      "metadata": {
        "id": "3f36c71c",
        "outputId": "fb9d0147-0f48-428a-df4a-2c99bf400a95",
        "colab": {
          "base_uri": "https://localhost:8080/"
        }
      },
      "outputs": [
        {
          "output_type": "stream",
          "name": "stdout",
          "text": [
            "Array from list: [1 2 3]\n",
            "Array from tuple: [1 2 3]\n",
            "\n",
            "Type of array from list: <class 'numpy.ndarray'>\n",
            "Type of array from tuple: <class 'numpy.ndarray'>\n"
          ]
        }
      ],
      "source": [
        "import numpy as np\n",
        "\n",
        "list_example = [1, 2, 3]\n",
        "array_from_list = np.array(list_example)\n",
        "\n",
        "tuple_example = (1, 2, 3)\n",
        "array_from_tuple = np.array(tuple_example)\n",
        "\n",
        "print(\"Array from list:\", array_from_list)\n",
        "print(\"Array from tuple:\", array_from_tuple)\n",
        "\n",
        "print(\"\\nType of array from list:\", type(array_from_list))\n",
        "print(\"Type of array from tuple:\", type(array_from_tuple))\n"
      ]
    },
    {
      "cell_type": "markdown",
      "id": "962bb9fc",
      "metadata": {
        "id": "962bb9fc"
      },
      "source": [
        "### Operations between arrays"
      ]
    },
    {
      "cell_type": "markdown",
      "id": "48d48f01",
      "metadata": {
        "id": "48d48f01"
      },
      "source": [
        "#### Exercise 09: Invert the vector of the previous exercise (★☆☆)\n",
        "\n",
        "> NOTE: Check the function `np.flip` (https://numpy.org/doc/stable/reference/generated/numpy.flip.html)"
      ]
    },
    {
      "cell_type": "code",
      "execution_count": 19,
      "id": "d3e13052",
      "metadata": {
        "id": "d3e13052",
        "outputId": "43f50187-9155-4882-95eb-2477a61722a5",
        "colab": {
          "base_uri": "https://localhost:8080/"
        }
      },
      "outputs": [
        {
          "output_type": "stream",
          "name": "stdout",
          "text": [
            "Original vector:\n",
            "[0.29738822 0.19863657 0.99450454 0.38368969 0.14009722 0.45493\n",
            " 0.87811287 0.15973237 0.44716086 0.60462235 0.04925706 0.23996977\n",
            " 0.70257989 0.54475418 0.83590293 0.9480693  0.21920579 0.62244249\n",
            " 0.74740097 0.21090847 0.09656899 0.84286549 0.58717899 0.33728259\n",
            " 0.87531534 0.91025322 0.91639432 0.5792088  0.14258976 0.27883519]\n",
            "\n",
            "Inverted vector:\n",
            "[0.27883519 0.14258976 0.5792088  0.91639432 0.91025322 0.87531534\n",
            " 0.33728259 0.58717899 0.84286549 0.09656899 0.21090847 0.74740097\n",
            " 0.62244249 0.21920579 0.9480693  0.83590293 0.54475418 0.70257989\n",
            " 0.23996977 0.04925706 0.60462235 0.44716086 0.15973237 0.87811287\n",
            " 0.45493    0.14009722 0.38368969 0.99450454 0.19863657 0.29738822]\n"
          ]
        }
      ],
      "source": [
        "import numpy as np\n",
        "\n",
        "vector = np.random.rand(30)\n",
        "\n",
        "inverted_vector = np.flip(vector)\n",
        "\n",
        "print(\"Original vector:\")\n",
        "print(vector)\n",
        "print(\"\\nInverted vector:\")\n",
        "print(inverted_vector)\n"
      ]
    },
    {
      "cell_type": "markdown",
      "id": "233addce",
      "metadata": {
        "id": "233addce"
      },
      "source": [
        "#### Exercise 10: Change the size of a random array of dimensions 5x12 into 12x5 (★☆☆)\n",
        "\n",
        "> NOTE: Check the function `np.reshape` (https://numpy.org/doc/stable/reference/generated/numpy.reshape.html)"
      ]
    },
    {
      "cell_type": "code",
      "execution_count": 21,
      "id": "bfaed09f",
      "metadata": {
        "id": "bfaed09f",
        "outputId": "a2337b8f-2be8-4c76-de31-3ed2db8e3abd",
        "colab": {
          "base_uri": "https://localhost:8080/"
        }
      },
      "outputs": [
        {
          "output_type": "stream",
          "name": "stdout",
          "text": [
            "Original array shape: (5, 12)\n",
            "Reshaped array shape: (12, 5)\n"
          ]
        }
      ],
      "source": [
        "import numpy as np\n",
        "\n",
        "original_array = np.random.rand(5, 12)\n",
        "\n",
        "reshaped_array = np.reshape(original_array, (12, 5))\n",
        "\n",
        "print(\"Original array shape:\", original_array.shape)\n",
        "print(\"Reshaped array shape:\", reshaped_array.shape)\n"
      ]
    },
    {
      "cell_type": "markdown",
      "id": "645e5381",
      "metadata": {
        "id": "645e5381"
      },
      "source": [
        "#### Exercise 11: Convert the list `[1, 2, 0, 0, 0, 4, 0]` into an array and get the index of the non-zero elements (★★☆)\n",
        "\n",
        "> NOTE: Check the function `np.where` (https://numpy.org/devdocs/reference/generated/numpy.where.html)"
      ]
    },
    {
      "cell_type": "code",
      "execution_count": 22,
      "id": "b2652fee",
      "metadata": {
        "id": "b2652fee",
        "outputId": "35cae567-b823-4ab5-e4b4-700cae3ed9b3",
        "colab": {
          "base_uri": "https://localhost:8080/"
        }
      },
      "outputs": [
        {
          "output_type": "stream",
          "name": "stdout",
          "text": [
            "Original array: [1 2 0 0 0 4 0]\n",
            "Indices of non-zero elements: [0 1 5]\n"
          ]
        }
      ],
      "source": [
        "import numpy as np\n",
        "\n",
        "arr = np.array([1, 2, 0, 0, 0, 4, 0])\n",
        "\n",
        "non_zero_indices = np.where(arr != 0)[0]\n",
        "\n",
        "print(\"Original array:\", arr)\n",
        "print(\"Indices of non-zero elements:\", non_zero_indices)\n"
      ]
    },
    {
      "cell_type": "markdown",
      "id": "e7948dbb",
      "metadata": {
        "id": "e7948dbb"
      },
      "source": [
        "#### Exercise 12: Convert the list `[0, 5, -1, 3, 15]` into an array, multiply its values by `-2` and obtain the even elements (★★☆)"
      ]
    },
    {
      "cell_type": "code",
      "execution_count": 23,
      "metadata": {
        "id": "4dItKuq0EfQL",
        "outputId": "7cdbf446-f1f5-43a7-f009-0b808ba30ea3",
        "colab": {
          "base_uri": "https://localhost:8080/"
        }
      },
      "outputs": [
        {
          "output_type": "stream",
          "name": "stdout",
          "text": [
            "Original array: [ 0  5 -1  3 15]\n",
            "Array after multiplication by -2: [  0 -10   2  -6 -30]\n",
            "Even elements after multiplication: [  0 -10   2  -6 -30]\n"
          ]
        }
      ],
      "source": [
        "import numpy as np\n",
        "\n",
        "arr = np.array([0, 5, -1, 3, 15])\n",
        "\n",
        "arr_multiplied = arr * -2\n",
        "\n",
        "even_elements = arr_multiplied[arr_multiplied % 2 == 0]\n",
        "\n",
        "print(\"Original array:\", arr)\n",
        "print(\"Array after multiplication by -2:\", arr_multiplied)\n",
        "print(\"Even elements after multiplication:\", even_elements)\n"
      ],
      "id": "4dItKuq0EfQL"
    },
    {
      "cell_type": "markdown",
      "id": "a90d6f3e",
      "metadata": {
        "id": "a90d6f3e"
      },
      "source": [
        "#### Exercise 13: Create a random vector of 10 elements and order it from smallest to largest (★★☆)\n",
        "\n",
        "> NOTE: Check the function `np.sort` (https://numpy.org/doc/stable/reference/generated/numpy.sort.html)"
      ]
    },
    {
      "cell_type": "code",
      "execution_count": 24,
      "id": "bc373a83",
      "metadata": {
        "id": "bc373a83",
        "outputId": "0e8ca2ef-10be-44c5-fe79-66a16e47c17a",
        "colab": {
          "base_uri": "https://localhost:8080/"
        }
      },
      "outputs": [
        {
          "output_type": "stream",
          "name": "stdout",
          "text": [
            "Original vector:\n",
            "[0.82959031 0.46067039 0.34419453 0.4460009  0.07397971 0.49135102\n",
            " 0.5443698  0.40869433 0.872543   0.63761168]\n",
            "\n",
            "Sorted vector:\n",
            "[0.07397971 0.34419453 0.40869433 0.4460009  0.46067039 0.49135102\n",
            " 0.5443698  0.63761168 0.82959031 0.872543  ]\n"
          ]
        }
      ],
      "source": [
        "import numpy as np\n",
        "\n",
        "vector = np.random.random(10)\n",
        "\n",
        "sorted_vector = np.sort(vector)\n",
        "\n",
        "print(\"Original vector:\")\n",
        "print(vector)\n",
        "print(\"\\nSorted vector:\")\n",
        "print(sorted_vector)\n"
      ]
    },
    {
      "cell_type": "markdown",
      "id": "5e9b6115",
      "metadata": {
        "id": "5e9b6115"
      },
      "source": [
        "#### Exercise 14: Generate two random vectors of 8 elements and apply the operations of addition, subtraction and multiplication between them (★★☆)\n",
        "\n",
        "> NOTE: Check the math module functions: https://numpy.org/doc/stable/reference/routines.math.html"
      ]
    },
    {
      "cell_type": "code",
      "execution_count": 27,
      "id": "cc77e421",
      "metadata": {
        "id": "cc77e421",
        "outputId": "1ab334e9-3aec-4de7-eb62-fc42168401a2",
        "colab": {
          "base_uri": "https://localhost:8080/"
        }
      },
      "outputs": [
        {
          "output_type": "stream",
          "name": "stdout",
          "text": [
            "Vector 1: [0.16667586 0.03938923 0.67347996 0.44758926 0.88493356 0.49662429\n",
            " 0.5049288  0.91726733]\n",
            "Vector 2: [0.37444367 0.67223371 0.51263063 0.64828402 0.92144681 0.27598445\n",
            " 0.48133904 0.82989116]\n",
            "\n",
            "Addition: [0.54111952 0.71162294 1.18611059 1.09587328 1.80638037 0.77260874\n",
            " 0.98626785 1.74715848]\n",
            "Subtraction: [-0.20776781 -0.63284449  0.16084934 -0.20069477 -0.03651325  0.22063984\n",
            "  0.02358976  0.08737617]\n",
            "Multiplication: [0.06241072 0.02647877 0.34524645 0.29016496 0.81541921 0.13706058\n",
            " 0.24304195 0.76123204]\n"
          ]
        }
      ],
      "source": [
        "import numpy as np\n",
        "\n",
        "vector1 = np.random.rand(8)\n",
        "vector2 = np.random.rand(8)\n",
        "\n",
        "addition = np.add(vector1, vector2)\n",
        "subtraction = np.subtract(vector1, vector2)\n",
        "multiplication = np.multiply(vector1, vector2)\n",
        "\n",
        "print(\"Vector 1:\", vector1)\n",
        "print(\"Vector 2:\", vector2)\n",
        "print(\"\\nAddition:\", addition)\n",
        "print(\"Subtraction:\", subtraction)\n",
        "print(\"Multiplication:\", multiplication)\n"
      ]
    },
    {
      "cell_type": "markdown",
      "id": "c8e8daa0",
      "metadata": {
        "id": "c8e8daa0"
      },
      "source": [
        "#### Exercise 15: Convert the list `[1, 2, 3, 4, 5, 6, 7, 8, 9, 10, 11, 12]` into an array and transform it into a matrix with rows of 3 columns (★★★)"
      ]
    },
    {
      "cell_type": "code",
      "execution_count": 25,
      "metadata": {
        "id": "kRNtGSJUEfQR",
        "outputId": "e44321cf-1667-49c3-9dfd-5264a7caaa81",
        "colab": {
          "base_uri": "https://localhost:8080/"
        }
      },
      "outputs": [
        {
          "output_type": "stream",
          "name": "stdout",
          "text": [
            "Original list: [1, 2, 3, 4, 5, 6, 7, 8, 9, 10, 11, 12]\n",
            "\n",
            "Reshaped matrix:\n",
            "[[ 1  2  3]\n",
            " [ 4  5  6]\n",
            " [ 7  8  9]\n",
            " [10 11 12]]\n"
          ]
        }
      ],
      "source": [
        "import numpy as np\n",
        "\n",
        "original_list = [1, 2, 3, 4, 5, 6, 7, 8, 9, 10, 11, 12]\n",
        "\n",
        "arr = np.array(original_list)\n",
        "\n",
        "matrix = arr.reshape(-1, 3)\n",
        "\n",
        "print(\"Original list:\", original_list)\n",
        "print(\"\\nReshaped matrix:\")\n",
        "print(matrix)\n"
      ],
      "id": "kRNtGSJUEfQR"
    }
  ],
  "metadata": {
    "kernelspec": {
      "display_name": "Python 3",
      "language": "python",
      "name": "python3"
    },
    "language_info": {
      "codemirror_mode": {
        "name": "ipython",
        "version": 3
      },
      "file_extension": ".py",
      "mimetype": "text/x-python",
      "name": "python",
      "nbconvert_exporter": "python",
      "pygments_lexer": "ipython3",
      "version": "3.11.4"
    },
    "colab": {
      "provenance": [],
      "include_colab_link": true
    }
  },
  "nbformat": 4,
  "nbformat_minor": 5
}
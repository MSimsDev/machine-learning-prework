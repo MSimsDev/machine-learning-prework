{
  "cells": [
    {
      "cell_type": "markdown",
      "metadata": {
        "id": "view-in-github",
        "colab_type": "text"
      },
      "source": [
        "<a href=\"https://colab.research.google.com/github/MSimsDev/machine-learning-prework/blob/main/03-pandas/03.1-Intro-To-Pandas.ipynb\" target=\"_parent\"><img src=\"https://colab.research.google.com/assets/colab-badge.svg\" alt=\"Open In Colab\"/></a>"
      ]
    },
    {
      "cell_type": "markdown",
      "id": "bdfbcacc",
      "metadata": {
        "id": "bdfbcacc"
      },
      "source": [
        "![Pandas logo](https://github.com/4GeeksAcademy/machine-learning-prework/blob/main/03-pandas/assets/pandas_logo.png?raw=true)\n",
        "\n",
        "## Introduction to Python Pandas\n",
        "\n",
        "**Pandas** is an open-source python library that provides data structures and is designed to handle and analyze tabular data in Python. Pandas is based on NumPy, which allows it to integrate well into the data science ecosystem alongside other libraries such as `Scikit-learn` and `Matplotlib`.\n",
        "\n",
        "Specifically, the key points of this library are:\n",
        "\n",
        "- **Data structures**: This library provides two structures for working with data. These are the `Series` which are labeled one-dimensional arrays, similar to a vector, list or sequence and which is able to contain any type of data, and the `DataFrames`, which is a labeled two-dimensional structure with columns that can be of different types, similar to a spreadsheet or a SQL table.\n",
        "- **Data manipulation**: Pandas allows you to carry out an exhaustive data analysis through functions that can be applied directly on your data structures. These operations include missing data control, data filtering, merging, combining and joining data from different sources...\n",
        "- **Efficiency**: All operations and/or functions that are applied on data structures are vectorized to improve performance compared to traditional Python loops and iterators.\n",
        "\n",
        "Pandas is a fundamental tool for any developer working with data in Python, as it provides a wide variety of tools for data exploration, cleaning and transformation, making the analysis process more efficient and effective."
      ]
    },
    {
      "cell_type": "markdown",
      "id": "40631cd6",
      "metadata": {
        "id": "40631cd6"
      },
      "source": [
        "### Data Structures in Python Pandas\n",
        "\n",
        "Pandas provides two main data structures: `Series` and `DataFrames`.\n",
        "\n",
        "#### Series\n",
        "\n",
        "A **series** in Pandas is a one-dimensional labeled data structure. It is similar to a 1D array in NumPy, but has an index that allows access to the values by label. A series can contain any kind of data: integers, strings, Python objects...\n",
        "\n",
        "![Example of a series](https://github.com/4GeeksAcademy/machine-learning-prework/blob/main/03-pandas/assets/series.PNG?raw=true)\n",
        "\n",
        "A Pandas series has two distinct parts:\n",
        "\n",
        "- **Index** (*index*): An array of tags associated with the data.\n",
        "- **Value** (*value*): An array of data.\n",
        "\n",
        "A series can be created using the `Series` class of the library with a list of elements as an argument. For example:"
      ]
    },
    {
      "cell_type": "code",
      "execution_count": 1,
      "id": "21653d4f",
      "metadata": {
        "id": "21653d4f",
        "outputId": "c91f481a-915a-4aa0-c77a-7ff07bc48b0a",
        "colab": {
          "base_uri": "https://localhost:8080/",
          "height": 241
        }
      },
      "outputs": [
        {
          "output_type": "execute_result",
          "data": {
            "text/plain": [
              "0    1\n",
              "1    2\n",
              "2    3\n",
              "3    4\n",
              "4    5\n",
              "dtype: int64"
            ],
            "text/html": [
              "<div>\n",
              "<style scoped>\n",
              "    .dataframe tbody tr th:only-of-type {\n",
              "        vertical-align: middle;\n",
              "    }\n",
              "\n",
              "    .dataframe tbody tr th {\n",
              "        vertical-align: top;\n",
              "    }\n",
              "\n",
              "    .dataframe thead th {\n",
              "        text-align: right;\n",
              "    }\n",
              "</style>\n",
              "<table border=\"1\" class=\"dataframe\">\n",
              "  <thead>\n",
              "    <tr style=\"text-align: right;\">\n",
              "      <th></th>\n",
              "      <th>0</th>\n",
              "    </tr>\n",
              "  </thead>\n",
              "  <tbody>\n",
              "    <tr>\n",
              "      <th>0</th>\n",
              "      <td>1</td>\n",
              "    </tr>\n",
              "    <tr>\n",
              "      <th>1</th>\n",
              "      <td>2</td>\n",
              "    </tr>\n",
              "    <tr>\n",
              "      <th>2</th>\n",
              "      <td>3</td>\n",
              "    </tr>\n",
              "    <tr>\n",
              "      <th>3</th>\n",
              "      <td>4</td>\n",
              "    </tr>\n",
              "    <tr>\n",
              "      <th>4</th>\n",
              "      <td>5</td>\n",
              "    </tr>\n",
              "  </tbody>\n",
              "</table>\n",
              "</div><br><label><b>dtype:</b> int64</label>"
            ]
          },
          "metadata": {},
          "execution_count": 1
        }
      ],
      "source": [
        "import pandas as pd\n",
        "\n",
        "serie = pd.Series([1, 2, 3, 4, 5])\n",
        "serie"
      ]
    },
    {
      "cell_type": "markdown",
      "id": "d1c2dda1",
      "metadata": {
        "id": "d1c2dda1"
      },
      "source": [
        "This will create a series with elements 1, 2, 3, 4 and 5. In addition, since we have not included information about the indexes, an automatic index is generated starting at 0:"
      ]
    },
    {
      "cell_type": "code",
      "execution_count": 2,
      "id": "2d4c091d",
      "metadata": {
        "id": "2d4c091d",
        "outputId": "f76a24a6-ea82-470a-8ea5-0bcf64ffa131",
        "colab": {
          "base_uri": "https://localhost:8080/",
          "height": 241
        }
      },
      "outputs": [
        {
          "output_type": "execute_result",
          "data": {
            "text/plain": [
              "a    1\n",
              "b    2\n",
              "c    3\n",
              "d    4\n",
              "e    5\n",
              "dtype: int64"
            ],
            "text/html": [
              "<div>\n",
              "<style scoped>\n",
              "    .dataframe tbody tr th:only-of-type {\n",
              "        vertical-align: middle;\n",
              "    }\n",
              "\n",
              "    .dataframe tbody tr th {\n",
              "        vertical-align: top;\n",
              "    }\n",
              "\n",
              "    .dataframe thead th {\n",
              "        text-align: right;\n",
              "    }\n",
              "</style>\n",
              "<table border=\"1\" class=\"dataframe\">\n",
              "  <thead>\n",
              "    <tr style=\"text-align: right;\">\n",
              "      <th></th>\n",
              "      <th>0</th>\n",
              "    </tr>\n",
              "  </thead>\n",
              "  <tbody>\n",
              "    <tr>\n",
              "      <th>a</th>\n",
              "      <td>1</td>\n",
              "    </tr>\n",
              "    <tr>\n",
              "      <th>b</th>\n",
              "      <td>2</td>\n",
              "    </tr>\n",
              "    <tr>\n",
              "      <th>c</th>\n",
              "      <td>3</td>\n",
              "    </tr>\n",
              "    <tr>\n",
              "      <th>d</th>\n",
              "      <td>4</td>\n",
              "    </tr>\n",
              "    <tr>\n",
              "      <th>e</th>\n",
              "      <td>5</td>\n",
              "    </tr>\n",
              "  </tbody>\n",
              "</table>\n",
              "</div><br><label><b>dtype:</b> int64</label>"
            ]
          },
          "metadata": {},
          "execution_count": 2
        }
      ],
      "source": [
        "serie = pd.Series([1, 2, 3, 4, 5], index = [\"a\", \"b\", \"c\", \"d\", \"e\"])\n",
        "serie"
      ]
    },
    {
      "cell_type": "markdown",
      "id": "f7588c91",
      "metadata": {
        "id": "f7588c91"
      },
      "source": [
        "Thus, the previous series has an index composed of letters.\n",
        "\n",
        "Both series store the same values, but the way they are accessed may vary according to the index.\n",
        "\n",
        "In a series, its elements can be accessed by index or by position (the latter is what we did in NumPy). Below are some operations that can be performed using the above series:"
      ]
    },
    {
      "cell_type": "code",
      "execution_count": 3,
      "id": "0f90b9e7",
      "metadata": {
        "id": "0f90b9e7",
        "outputId": "c2e328f1-236d-4c20-9c93-af80d95daf04",
        "colab": {
          "base_uri": "https://localhost:8080/"
        }
      },
      "outputs": [
        {
          "output_type": "stream",
          "name": "stdout",
          "text": [
            "3\n",
            "3\n",
            "a    1\n",
            "b    7\n",
            "c    3\n",
            "d    4\n",
            "e    5\n",
            "dtype: int64\n",
            "a    11\n",
            "b    17\n",
            "c    13\n",
            "d    14\n",
            "e    15\n",
            "dtype: int64\n",
            "70\n"
          ]
        },
        {
          "output_type": "stream",
          "name": "stderr",
          "text": [
            "<ipython-input-3-ddd80ab499d5>:3: FutureWarning: Series.__getitem__ treating keys as positions is deprecated. In a future version, integer keys will always be treated as labels (consistent with DataFrame behavior). To access a value by position, use `ser.iloc[pos]`\n",
            "  print(serie[2]) # By position\n"
          ]
        }
      ],
      "source": [
        "# Access the third element\n",
        "print(serie[\"c\"]) # By index\n",
        "print(serie[2]) # By position\n",
        "\n",
        "# Change the value of the second element\n",
        "serie[\"b\"] = 7\n",
        "print(serie)\n",
        "\n",
        "# Add 10 to all elements\n",
        "serie += 10\n",
        "print(serie)\n",
        "\n",
        "# Calculate the sum of the elements\n",
        "sum_all = serie.sum()\n",
        "print(sum_all)"
      ]
    },
    {
      "cell_type": "markdown",
      "id": "e4fe3649",
      "metadata": {
        "id": "e4fe3649"
      },
      "source": [
        "#### Pandas DataFrame\n",
        "\n",
        "A **DataFrame** in Pandas is a two-dimensional labeled data structure. It is similar to a 2D array in NumPy, but has an index that allows access to the values per label, per row, and column.\n",
        "\n",
        "![Example of a DataFrame](https://github.com/4GeeksAcademy/machine-learning-prework/blob/main/03-pandas/assets/dataframe.PNG?raw=true)\n",
        "\n",
        "A DataFrame in Pandas has several differentiated parts:\n",
        "\n",
        "- **Data** (*data*): An array of values that can be of different types per column.\n",
        "- **Row index** (*row index*): An array of labels associated to the rows.\n",
        "- **Column index** (*column index*): An array of labels associated to the columns.\n",
        "\n",
        "A DataFrame can be seen as a set of series joined in a tabular structure, with an index per row in common and a column index specific to each series.\n",
        "\n",
        "![Series and DataFrames](https://github.com/4GeeksAcademy/machine-learning-prework/blob/main/03-pandas/assets/series_dataframe.png?raw=true?raw=true)\n",
        "\n",
        "A DataFrame can be created using the `DataFrame` class. For example:"
      ]
    },
    {
      "cell_type": "code",
      "execution_count": 4,
      "id": "3947a09a",
      "metadata": {
        "id": "3947a09a",
        "outputId": "ec063695-2b69-41ce-d0a7-83f40881c9ec",
        "colab": {
          "base_uri": "https://localhost:8080/",
          "height": 143
        }
      },
      "outputs": [
        {
          "output_type": "execute_result",
          "data": {
            "text/plain": [
              "   0  1  2\n",
              "0  1  2  3\n",
              "1  4  5  6\n",
              "2  7  8  9"
            ],
            "text/html": [
              "\n",
              "  <div id=\"df-360e7a13-4366-411e-a3ed-4ad2fa27e023\" class=\"colab-df-container\">\n",
              "    <div>\n",
              "<style scoped>\n",
              "    .dataframe tbody tr th:only-of-type {\n",
              "        vertical-align: middle;\n",
              "    }\n",
              "\n",
              "    .dataframe tbody tr th {\n",
              "        vertical-align: top;\n",
              "    }\n",
              "\n",
              "    .dataframe thead th {\n",
              "        text-align: right;\n",
              "    }\n",
              "</style>\n",
              "<table border=\"1\" class=\"dataframe\">\n",
              "  <thead>\n",
              "    <tr style=\"text-align: right;\">\n",
              "      <th></th>\n",
              "      <th>0</th>\n",
              "      <th>1</th>\n",
              "      <th>2</th>\n",
              "    </tr>\n",
              "  </thead>\n",
              "  <tbody>\n",
              "    <tr>\n",
              "      <th>0</th>\n",
              "      <td>1</td>\n",
              "      <td>2</td>\n",
              "      <td>3</td>\n",
              "    </tr>\n",
              "    <tr>\n",
              "      <th>1</th>\n",
              "      <td>4</td>\n",
              "      <td>5</td>\n",
              "      <td>6</td>\n",
              "    </tr>\n",
              "    <tr>\n",
              "      <th>2</th>\n",
              "      <td>7</td>\n",
              "      <td>8</td>\n",
              "      <td>9</td>\n",
              "    </tr>\n",
              "  </tbody>\n",
              "</table>\n",
              "</div>\n",
              "    <div class=\"colab-df-buttons\">\n",
              "\n",
              "  <div class=\"colab-df-container\">\n",
              "    <button class=\"colab-df-convert\" onclick=\"convertToInteractive('df-360e7a13-4366-411e-a3ed-4ad2fa27e023')\"\n",
              "            title=\"Convert this dataframe to an interactive table.\"\n",
              "            style=\"display:none;\">\n",
              "\n",
              "  <svg xmlns=\"http://www.w3.org/2000/svg\" height=\"24px\" viewBox=\"0 -960 960 960\">\n",
              "    <path d=\"M120-120v-720h720v720H120Zm60-500h600v-160H180v160Zm220 220h160v-160H400v160Zm0 220h160v-160H400v160ZM180-400h160v-160H180v160Zm440 0h160v-160H620v160ZM180-180h160v-160H180v160Zm440 0h160v-160H620v160Z\"/>\n",
              "  </svg>\n",
              "    </button>\n",
              "\n",
              "  <style>\n",
              "    .colab-df-container {\n",
              "      display:flex;\n",
              "      gap: 12px;\n",
              "    }\n",
              "\n",
              "    .colab-df-convert {\n",
              "      background-color: #E8F0FE;\n",
              "      border: none;\n",
              "      border-radius: 50%;\n",
              "      cursor: pointer;\n",
              "      display: none;\n",
              "      fill: #1967D2;\n",
              "      height: 32px;\n",
              "      padding: 0 0 0 0;\n",
              "      width: 32px;\n",
              "    }\n",
              "\n",
              "    .colab-df-convert:hover {\n",
              "      background-color: #E2EBFA;\n",
              "      box-shadow: 0px 1px 2px rgba(60, 64, 67, 0.3), 0px 1px 3px 1px rgba(60, 64, 67, 0.15);\n",
              "      fill: #174EA6;\n",
              "    }\n",
              "\n",
              "    .colab-df-buttons div {\n",
              "      margin-bottom: 4px;\n",
              "    }\n",
              "\n",
              "    [theme=dark] .colab-df-convert {\n",
              "      background-color: #3B4455;\n",
              "      fill: #D2E3FC;\n",
              "    }\n",
              "\n",
              "    [theme=dark] .colab-df-convert:hover {\n",
              "      background-color: #434B5C;\n",
              "      box-shadow: 0px 1px 3px 1px rgba(0, 0, 0, 0.15);\n",
              "      filter: drop-shadow(0px 1px 2px rgba(0, 0, 0, 0.3));\n",
              "      fill: #FFFFFF;\n",
              "    }\n",
              "  </style>\n",
              "\n",
              "    <script>\n",
              "      const buttonEl =\n",
              "        document.querySelector('#df-360e7a13-4366-411e-a3ed-4ad2fa27e023 button.colab-df-convert');\n",
              "      buttonEl.style.display =\n",
              "        google.colab.kernel.accessAllowed ? 'block' : 'none';\n",
              "\n",
              "      async function convertToInteractive(key) {\n",
              "        const element = document.querySelector('#df-360e7a13-4366-411e-a3ed-4ad2fa27e023');\n",
              "        const dataTable =\n",
              "          await google.colab.kernel.invokeFunction('convertToInteractive',\n",
              "                                                    [key], {});\n",
              "        if (!dataTable) return;\n",
              "\n",
              "        const docLinkHtml = 'Like what you see? Visit the ' +\n",
              "          '<a target=\"_blank\" href=https://colab.research.google.com/notebooks/data_table.ipynb>data table notebook</a>'\n",
              "          + ' to learn more about interactive tables.';\n",
              "        element.innerHTML = '';\n",
              "        dataTable['output_type'] = 'display_data';\n",
              "        await google.colab.output.renderOutput(dataTable, element);\n",
              "        const docLink = document.createElement('div');\n",
              "        docLink.innerHTML = docLinkHtml;\n",
              "        element.appendChild(docLink);\n",
              "      }\n",
              "    </script>\n",
              "  </div>\n",
              "\n",
              "\n",
              "<div id=\"df-49266079-5112-4b0e-b54c-bb1d360a269f\">\n",
              "  <button class=\"colab-df-quickchart\" onclick=\"quickchart('df-49266079-5112-4b0e-b54c-bb1d360a269f')\"\n",
              "            title=\"Suggest charts\"\n",
              "            style=\"display:none;\">\n",
              "\n",
              "<svg xmlns=\"http://www.w3.org/2000/svg\" height=\"24px\"viewBox=\"0 0 24 24\"\n",
              "     width=\"24px\">\n",
              "    <g>\n",
              "        <path d=\"M19 3H5c-1.1 0-2 .9-2 2v14c0 1.1.9 2 2 2h14c1.1 0 2-.9 2-2V5c0-1.1-.9-2-2-2zM9 17H7v-7h2v7zm4 0h-2V7h2v10zm4 0h-2v-4h2v4z\"/>\n",
              "    </g>\n",
              "</svg>\n",
              "  </button>\n",
              "\n",
              "<style>\n",
              "  .colab-df-quickchart {\n",
              "      --bg-color: #E8F0FE;\n",
              "      --fill-color: #1967D2;\n",
              "      --hover-bg-color: #E2EBFA;\n",
              "      --hover-fill-color: #174EA6;\n",
              "      --disabled-fill-color: #AAA;\n",
              "      --disabled-bg-color: #DDD;\n",
              "  }\n",
              "\n",
              "  [theme=dark] .colab-df-quickchart {\n",
              "      --bg-color: #3B4455;\n",
              "      --fill-color: #D2E3FC;\n",
              "      --hover-bg-color: #434B5C;\n",
              "      --hover-fill-color: #FFFFFF;\n",
              "      --disabled-bg-color: #3B4455;\n",
              "      --disabled-fill-color: #666;\n",
              "  }\n",
              "\n",
              "  .colab-df-quickchart {\n",
              "    background-color: var(--bg-color);\n",
              "    border: none;\n",
              "    border-radius: 50%;\n",
              "    cursor: pointer;\n",
              "    display: none;\n",
              "    fill: var(--fill-color);\n",
              "    height: 32px;\n",
              "    padding: 0;\n",
              "    width: 32px;\n",
              "  }\n",
              "\n",
              "  .colab-df-quickchart:hover {\n",
              "    background-color: var(--hover-bg-color);\n",
              "    box-shadow: 0 1px 2px rgba(60, 64, 67, 0.3), 0 1px 3px 1px rgba(60, 64, 67, 0.15);\n",
              "    fill: var(--button-hover-fill-color);\n",
              "  }\n",
              "\n",
              "  .colab-df-quickchart-complete:disabled,\n",
              "  .colab-df-quickchart-complete:disabled:hover {\n",
              "    background-color: var(--disabled-bg-color);\n",
              "    fill: var(--disabled-fill-color);\n",
              "    box-shadow: none;\n",
              "  }\n",
              "\n",
              "  .colab-df-spinner {\n",
              "    border: 2px solid var(--fill-color);\n",
              "    border-color: transparent;\n",
              "    border-bottom-color: var(--fill-color);\n",
              "    animation:\n",
              "      spin 1s steps(1) infinite;\n",
              "  }\n",
              "\n",
              "  @keyframes spin {\n",
              "    0% {\n",
              "      border-color: transparent;\n",
              "      border-bottom-color: var(--fill-color);\n",
              "      border-left-color: var(--fill-color);\n",
              "    }\n",
              "    20% {\n",
              "      border-color: transparent;\n",
              "      border-left-color: var(--fill-color);\n",
              "      border-top-color: var(--fill-color);\n",
              "    }\n",
              "    30% {\n",
              "      border-color: transparent;\n",
              "      border-left-color: var(--fill-color);\n",
              "      border-top-color: var(--fill-color);\n",
              "      border-right-color: var(--fill-color);\n",
              "    }\n",
              "    40% {\n",
              "      border-color: transparent;\n",
              "      border-right-color: var(--fill-color);\n",
              "      border-top-color: var(--fill-color);\n",
              "    }\n",
              "    60% {\n",
              "      border-color: transparent;\n",
              "      border-right-color: var(--fill-color);\n",
              "    }\n",
              "    80% {\n",
              "      border-color: transparent;\n",
              "      border-right-color: var(--fill-color);\n",
              "      border-bottom-color: var(--fill-color);\n",
              "    }\n",
              "    90% {\n",
              "      border-color: transparent;\n",
              "      border-bottom-color: var(--fill-color);\n",
              "    }\n",
              "  }\n",
              "</style>\n",
              "\n",
              "  <script>\n",
              "    async function quickchart(key) {\n",
              "      const quickchartButtonEl =\n",
              "        document.querySelector('#' + key + ' button');\n",
              "      quickchartButtonEl.disabled = true;  // To prevent multiple clicks.\n",
              "      quickchartButtonEl.classList.add('colab-df-spinner');\n",
              "      try {\n",
              "        const charts = await google.colab.kernel.invokeFunction(\n",
              "            'suggestCharts', [key], {});\n",
              "      } catch (error) {\n",
              "        console.error('Error during call to suggestCharts:', error);\n",
              "      }\n",
              "      quickchartButtonEl.classList.remove('colab-df-spinner');\n",
              "      quickchartButtonEl.classList.add('colab-df-quickchart-complete');\n",
              "    }\n",
              "    (() => {\n",
              "      let quickchartButtonEl =\n",
              "        document.querySelector('#df-49266079-5112-4b0e-b54c-bb1d360a269f button');\n",
              "      quickchartButtonEl.style.display =\n",
              "        google.colab.kernel.accessAllowed ? 'block' : 'none';\n",
              "    })();\n",
              "  </script>\n",
              "</div>\n",
              "\n",
              "  <div id=\"id_e254452e-f79a-47c3-9ff4-4f8b3a1f36d0\">\n",
              "    <style>\n",
              "      .colab-df-generate {\n",
              "        background-color: #E8F0FE;\n",
              "        border: none;\n",
              "        border-radius: 50%;\n",
              "        cursor: pointer;\n",
              "        display: none;\n",
              "        fill: #1967D2;\n",
              "        height: 32px;\n",
              "        padding: 0 0 0 0;\n",
              "        width: 32px;\n",
              "      }\n",
              "\n",
              "      .colab-df-generate:hover {\n",
              "        background-color: #E2EBFA;\n",
              "        box-shadow: 0px 1px 2px rgba(60, 64, 67, 0.3), 0px 1px 3px 1px rgba(60, 64, 67, 0.15);\n",
              "        fill: #174EA6;\n",
              "      }\n",
              "\n",
              "      [theme=dark] .colab-df-generate {\n",
              "        background-color: #3B4455;\n",
              "        fill: #D2E3FC;\n",
              "      }\n",
              "\n",
              "      [theme=dark] .colab-df-generate:hover {\n",
              "        background-color: #434B5C;\n",
              "        box-shadow: 0px 1px 3px 1px rgba(0, 0, 0, 0.15);\n",
              "        filter: drop-shadow(0px 1px 2px rgba(0, 0, 0, 0.3));\n",
              "        fill: #FFFFFF;\n",
              "      }\n",
              "    </style>\n",
              "    <button class=\"colab-df-generate\" onclick=\"generateWithVariable('dataframe')\"\n",
              "            title=\"Generate code using this dataframe.\"\n",
              "            style=\"display:none;\">\n",
              "\n",
              "  <svg xmlns=\"http://www.w3.org/2000/svg\" height=\"24px\"viewBox=\"0 0 24 24\"\n",
              "       width=\"24px\">\n",
              "    <path d=\"M7,19H8.4L18.45,9,17,7.55,7,17.6ZM5,21V16.75L18.45,3.32a2,2,0,0,1,2.83,0l1.4,1.43a1.91,1.91,0,0,1,.58,1.4,1.91,1.91,0,0,1-.58,1.4L9.25,21ZM18.45,9,17,7.55Zm-12,3A5.31,5.31,0,0,0,4.9,8.1,5.31,5.31,0,0,0,1,6.5,5.31,5.31,0,0,0,4.9,4.9,5.31,5.31,0,0,0,6.5,1,5.31,5.31,0,0,0,8.1,4.9,5.31,5.31,0,0,0,12,6.5,5.46,5.46,0,0,0,6.5,12Z\"/>\n",
              "  </svg>\n",
              "    </button>\n",
              "    <script>\n",
              "      (() => {\n",
              "      const buttonEl =\n",
              "        document.querySelector('#id_e254452e-f79a-47c3-9ff4-4f8b3a1f36d0 button.colab-df-generate');\n",
              "      buttonEl.style.display =\n",
              "        google.colab.kernel.accessAllowed ? 'block' : 'none';\n",
              "\n",
              "      buttonEl.onclick = () => {\n",
              "        google.colab.notebook.generateWithVariable('dataframe');\n",
              "      }\n",
              "      })();\n",
              "    </script>\n",
              "  </div>\n",
              "\n",
              "    </div>\n",
              "  </div>\n"
            ],
            "application/vnd.google.colaboratory.intrinsic+json": {
              "type": "dataframe",
              "variable_name": "dataframe",
              "summary": "{\n  \"name\": \"dataframe\",\n  \"rows\": 3,\n  \"fields\": [\n    {\n      \"column\": 0,\n      \"properties\": {\n        \"dtype\": \"number\",\n        \"std\": 3,\n        \"min\": 1,\n        \"max\": 7,\n        \"num_unique_values\": 3,\n        \"samples\": [\n          1,\n          4,\n          7\n        ],\n        \"semantic_type\": \"\",\n        \"description\": \"\"\n      }\n    },\n    {\n      \"column\": 1,\n      \"properties\": {\n        \"dtype\": \"number\",\n        \"std\": 3,\n        \"min\": 2,\n        \"max\": 8,\n        \"num_unique_values\": 3,\n        \"samples\": [\n          2,\n          5,\n          8\n        ],\n        \"semantic_type\": \"\",\n        \"description\": \"\"\n      }\n    },\n    {\n      \"column\": 2,\n      \"properties\": {\n        \"dtype\": \"number\",\n        \"std\": 3,\n        \"min\": 3,\n        \"max\": 9,\n        \"num_unique_values\": 3,\n        \"samples\": [\n          3,\n          6,\n          9\n        ],\n        \"semantic_type\": \"\",\n        \"description\": \"\"\n      }\n    }\n  ]\n}"
            }
          },
          "metadata": {},
          "execution_count": 4
        }
      ],
      "source": [
        "dataframe = pd.DataFrame([[1, 2, 3], [4, 5, 6], [7, 8, 9]])\n",
        "dataframe"
      ]
    },
    {
      "cell_type": "markdown",
      "id": "ccf0e435",
      "metadata": {
        "id": "ccf0e435"
      },
      "source": [
        "This will create a DataFrame with three rows and three columns for each row. As was the case with series, a DataFrame will generate automatic indexes for rows and columns if they are not passed as arguments in the constructor of the class. If we wanted to create a new DataFrame with concrete indexes for rows and columns, it would be programmed as follows:"
      ]
    },
    {
      "cell_type": "code",
      "execution_count": 5,
      "id": "92f62a5c",
      "metadata": {
        "id": "92f62a5c",
        "outputId": "3618c0e4-054b-4c4a-c4e1-f1464420c776",
        "colab": {
          "base_uri": "https://localhost:8080/",
          "height": 143
        }
      },
      "outputs": [
        {
          "output_type": "execute_result",
          "data": {
            "text/plain": [
              "   col A  col B  col C\n",
              "a      1      4      7\n",
              "b      2      5      8\n",
              "c      3      6      9"
            ],
            "text/html": [
              "\n",
              "  <div id=\"df-47a76017-5558-4ef0-ba26-1a6ac0d3394f\" class=\"colab-df-container\">\n",
              "    <div>\n",
              "<style scoped>\n",
              "    .dataframe tbody tr th:only-of-type {\n",
              "        vertical-align: middle;\n",
              "    }\n",
              "\n",
              "    .dataframe tbody tr th {\n",
              "        vertical-align: top;\n",
              "    }\n",
              "\n",
              "    .dataframe thead th {\n",
              "        text-align: right;\n",
              "    }\n",
              "</style>\n",
              "<table border=\"1\" class=\"dataframe\">\n",
              "  <thead>\n",
              "    <tr style=\"text-align: right;\">\n",
              "      <th></th>\n",
              "      <th>col A</th>\n",
              "      <th>col B</th>\n",
              "      <th>col C</th>\n",
              "    </tr>\n",
              "  </thead>\n",
              "  <tbody>\n",
              "    <tr>\n",
              "      <th>a</th>\n",
              "      <td>1</td>\n",
              "      <td>4</td>\n",
              "      <td>7</td>\n",
              "    </tr>\n",
              "    <tr>\n",
              "      <th>b</th>\n",
              "      <td>2</td>\n",
              "      <td>5</td>\n",
              "      <td>8</td>\n",
              "    </tr>\n",
              "    <tr>\n",
              "      <th>c</th>\n",
              "      <td>3</td>\n",
              "      <td>6</td>\n",
              "      <td>9</td>\n",
              "    </tr>\n",
              "  </tbody>\n",
              "</table>\n",
              "</div>\n",
              "    <div class=\"colab-df-buttons\">\n",
              "\n",
              "  <div class=\"colab-df-container\">\n",
              "    <button class=\"colab-df-convert\" onclick=\"convertToInteractive('df-47a76017-5558-4ef0-ba26-1a6ac0d3394f')\"\n",
              "            title=\"Convert this dataframe to an interactive table.\"\n",
              "            style=\"display:none;\">\n",
              "\n",
              "  <svg xmlns=\"http://www.w3.org/2000/svg\" height=\"24px\" viewBox=\"0 -960 960 960\">\n",
              "    <path d=\"M120-120v-720h720v720H120Zm60-500h600v-160H180v160Zm220 220h160v-160H400v160Zm0 220h160v-160H400v160ZM180-400h160v-160H180v160Zm440 0h160v-160H620v160ZM180-180h160v-160H180v160Zm440 0h160v-160H620v160Z\"/>\n",
              "  </svg>\n",
              "    </button>\n",
              "\n",
              "  <style>\n",
              "    .colab-df-container {\n",
              "      display:flex;\n",
              "      gap: 12px;\n",
              "    }\n",
              "\n",
              "    .colab-df-convert {\n",
              "      background-color: #E8F0FE;\n",
              "      border: none;\n",
              "      border-radius: 50%;\n",
              "      cursor: pointer;\n",
              "      display: none;\n",
              "      fill: #1967D2;\n",
              "      height: 32px;\n",
              "      padding: 0 0 0 0;\n",
              "      width: 32px;\n",
              "    }\n",
              "\n",
              "    .colab-df-convert:hover {\n",
              "      background-color: #E2EBFA;\n",
              "      box-shadow: 0px 1px 2px rgba(60, 64, 67, 0.3), 0px 1px 3px 1px rgba(60, 64, 67, 0.15);\n",
              "      fill: #174EA6;\n",
              "    }\n",
              "\n",
              "    .colab-df-buttons div {\n",
              "      margin-bottom: 4px;\n",
              "    }\n",
              "\n",
              "    [theme=dark] .colab-df-convert {\n",
              "      background-color: #3B4455;\n",
              "      fill: #D2E3FC;\n",
              "    }\n",
              "\n",
              "    [theme=dark] .colab-df-convert:hover {\n",
              "      background-color: #434B5C;\n",
              "      box-shadow: 0px 1px 3px 1px rgba(0, 0, 0, 0.15);\n",
              "      filter: drop-shadow(0px 1px 2px rgba(0, 0, 0, 0.3));\n",
              "      fill: #FFFFFF;\n",
              "    }\n",
              "  </style>\n",
              "\n",
              "    <script>\n",
              "      const buttonEl =\n",
              "        document.querySelector('#df-47a76017-5558-4ef0-ba26-1a6ac0d3394f button.colab-df-convert');\n",
              "      buttonEl.style.display =\n",
              "        google.colab.kernel.accessAllowed ? 'block' : 'none';\n",
              "\n",
              "      async function convertToInteractive(key) {\n",
              "        const element = document.querySelector('#df-47a76017-5558-4ef0-ba26-1a6ac0d3394f');\n",
              "        const dataTable =\n",
              "          await google.colab.kernel.invokeFunction('convertToInteractive',\n",
              "                                                    [key], {});\n",
              "        if (!dataTable) return;\n",
              "\n",
              "        const docLinkHtml = 'Like what you see? Visit the ' +\n",
              "          '<a target=\"_blank\" href=https://colab.research.google.com/notebooks/data_table.ipynb>data table notebook</a>'\n",
              "          + ' to learn more about interactive tables.';\n",
              "        element.innerHTML = '';\n",
              "        dataTable['output_type'] = 'display_data';\n",
              "        await google.colab.output.renderOutput(dataTable, element);\n",
              "        const docLink = document.createElement('div');\n",
              "        docLink.innerHTML = docLinkHtml;\n",
              "        element.appendChild(docLink);\n",
              "      }\n",
              "    </script>\n",
              "  </div>\n",
              "\n",
              "\n",
              "<div id=\"df-3c879cad-a0cb-4525-981e-eb091d306e3f\">\n",
              "  <button class=\"colab-df-quickchart\" onclick=\"quickchart('df-3c879cad-a0cb-4525-981e-eb091d306e3f')\"\n",
              "            title=\"Suggest charts\"\n",
              "            style=\"display:none;\">\n",
              "\n",
              "<svg xmlns=\"http://www.w3.org/2000/svg\" height=\"24px\"viewBox=\"0 0 24 24\"\n",
              "     width=\"24px\">\n",
              "    <g>\n",
              "        <path d=\"M19 3H5c-1.1 0-2 .9-2 2v14c0 1.1.9 2 2 2h14c1.1 0 2-.9 2-2V5c0-1.1-.9-2-2-2zM9 17H7v-7h2v7zm4 0h-2V7h2v10zm4 0h-2v-4h2v4z\"/>\n",
              "    </g>\n",
              "</svg>\n",
              "  </button>\n",
              "\n",
              "<style>\n",
              "  .colab-df-quickchart {\n",
              "      --bg-color: #E8F0FE;\n",
              "      --fill-color: #1967D2;\n",
              "      --hover-bg-color: #E2EBFA;\n",
              "      --hover-fill-color: #174EA6;\n",
              "      --disabled-fill-color: #AAA;\n",
              "      --disabled-bg-color: #DDD;\n",
              "  }\n",
              "\n",
              "  [theme=dark] .colab-df-quickchart {\n",
              "      --bg-color: #3B4455;\n",
              "      --fill-color: #D2E3FC;\n",
              "      --hover-bg-color: #434B5C;\n",
              "      --hover-fill-color: #FFFFFF;\n",
              "      --disabled-bg-color: #3B4455;\n",
              "      --disabled-fill-color: #666;\n",
              "  }\n",
              "\n",
              "  .colab-df-quickchart {\n",
              "    background-color: var(--bg-color);\n",
              "    border: none;\n",
              "    border-radius: 50%;\n",
              "    cursor: pointer;\n",
              "    display: none;\n",
              "    fill: var(--fill-color);\n",
              "    height: 32px;\n",
              "    padding: 0;\n",
              "    width: 32px;\n",
              "  }\n",
              "\n",
              "  .colab-df-quickchart:hover {\n",
              "    background-color: var(--hover-bg-color);\n",
              "    box-shadow: 0 1px 2px rgba(60, 64, 67, 0.3), 0 1px 3px 1px rgba(60, 64, 67, 0.15);\n",
              "    fill: var(--button-hover-fill-color);\n",
              "  }\n",
              "\n",
              "  .colab-df-quickchart-complete:disabled,\n",
              "  .colab-df-quickchart-complete:disabled:hover {\n",
              "    background-color: var(--disabled-bg-color);\n",
              "    fill: var(--disabled-fill-color);\n",
              "    box-shadow: none;\n",
              "  }\n",
              "\n",
              "  .colab-df-spinner {\n",
              "    border: 2px solid var(--fill-color);\n",
              "    border-color: transparent;\n",
              "    border-bottom-color: var(--fill-color);\n",
              "    animation:\n",
              "      spin 1s steps(1) infinite;\n",
              "  }\n",
              "\n",
              "  @keyframes spin {\n",
              "    0% {\n",
              "      border-color: transparent;\n",
              "      border-bottom-color: var(--fill-color);\n",
              "      border-left-color: var(--fill-color);\n",
              "    }\n",
              "    20% {\n",
              "      border-color: transparent;\n",
              "      border-left-color: var(--fill-color);\n",
              "      border-top-color: var(--fill-color);\n",
              "    }\n",
              "    30% {\n",
              "      border-color: transparent;\n",
              "      border-left-color: var(--fill-color);\n",
              "      border-top-color: var(--fill-color);\n",
              "      border-right-color: var(--fill-color);\n",
              "    }\n",
              "    40% {\n",
              "      border-color: transparent;\n",
              "      border-right-color: var(--fill-color);\n",
              "      border-top-color: var(--fill-color);\n",
              "    }\n",
              "    60% {\n",
              "      border-color: transparent;\n",
              "      border-right-color: var(--fill-color);\n",
              "    }\n",
              "    80% {\n",
              "      border-color: transparent;\n",
              "      border-right-color: var(--fill-color);\n",
              "      border-bottom-color: var(--fill-color);\n",
              "    }\n",
              "    90% {\n",
              "      border-color: transparent;\n",
              "      border-bottom-color: var(--fill-color);\n",
              "    }\n",
              "  }\n",
              "</style>\n",
              "\n",
              "  <script>\n",
              "    async function quickchart(key) {\n",
              "      const quickchartButtonEl =\n",
              "        document.querySelector('#' + key + ' button');\n",
              "      quickchartButtonEl.disabled = true;  // To prevent multiple clicks.\n",
              "      quickchartButtonEl.classList.add('colab-df-spinner');\n",
              "      try {\n",
              "        const charts = await google.colab.kernel.invokeFunction(\n",
              "            'suggestCharts', [key], {});\n",
              "      } catch (error) {\n",
              "        console.error('Error during call to suggestCharts:', error);\n",
              "      }\n",
              "      quickchartButtonEl.classList.remove('colab-df-spinner');\n",
              "      quickchartButtonEl.classList.add('colab-df-quickchart-complete');\n",
              "    }\n",
              "    (() => {\n",
              "      let quickchartButtonEl =\n",
              "        document.querySelector('#df-3c879cad-a0cb-4525-981e-eb091d306e3f button');\n",
              "      quickchartButtonEl.style.display =\n",
              "        google.colab.kernel.accessAllowed ? 'block' : 'none';\n",
              "    })();\n",
              "  </script>\n",
              "</div>\n",
              "\n",
              "  <div id=\"id_715c0097-1c27-4579-818f-d7e31ce575a6\">\n",
              "    <style>\n",
              "      .colab-df-generate {\n",
              "        background-color: #E8F0FE;\n",
              "        border: none;\n",
              "        border-radius: 50%;\n",
              "        cursor: pointer;\n",
              "        display: none;\n",
              "        fill: #1967D2;\n",
              "        height: 32px;\n",
              "        padding: 0 0 0 0;\n",
              "        width: 32px;\n",
              "      }\n",
              "\n",
              "      .colab-df-generate:hover {\n",
              "        background-color: #E2EBFA;\n",
              "        box-shadow: 0px 1px 2px rgba(60, 64, 67, 0.3), 0px 1px 3px 1px rgba(60, 64, 67, 0.15);\n",
              "        fill: #174EA6;\n",
              "      }\n",
              "\n",
              "      [theme=dark] .colab-df-generate {\n",
              "        background-color: #3B4455;\n",
              "        fill: #D2E3FC;\n",
              "      }\n",
              "\n",
              "      [theme=dark] .colab-df-generate:hover {\n",
              "        background-color: #434B5C;\n",
              "        box-shadow: 0px 1px 3px 1px rgba(0, 0, 0, 0.15);\n",
              "        filter: drop-shadow(0px 1px 2px rgba(0, 0, 0, 0.3));\n",
              "        fill: #FFFFFF;\n",
              "      }\n",
              "    </style>\n",
              "    <button class=\"colab-df-generate\" onclick=\"generateWithVariable('dataframe')\"\n",
              "            title=\"Generate code using this dataframe.\"\n",
              "            style=\"display:none;\">\n",
              "\n",
              "  <svg xmlns=\"http://www.w3.org/2000/svg\" height=\"24px\"viewBox=\"0 0 24 24\"\n",
              "       width=\"24px\">\n",
              "    <path d=\"M7,19H8.4L18.45,9,17,7.55,7,17.6ZM5,21V16.75L18.45,3.32a2,2,0,0,1,2.83,0l1.4,1.43a1.91,1.91,0,0,1,.58,1.4,1.91,1.91,0,0,1-.58,1.4L9.25,21ZM18.45,9,17,7.55Zm-12,3A5.31,5.31,0,0,0,4.9,8.1,5.31,5.31,0,0,0,1,6.5,5.31,5.31,0,0,0,4.9,4.9,5.31,5.31,0,0,0,6.5,1,5.31,5.31,0,0,0,8.1,4.9,5.31,5.31,0,0,0,12,6.5,5.46,5.46,0,0,0,6.5,12Z\"/>\n",
              "  </svg>\n",
              "    </button>\n",
              "    <script>\n",
              "      (() => {\n",
              "      const buttonEl =\n",
              "        document.querySelector('#id_715c0097-1c27-4579-818f-d7e31ce575a6 button.colab-df-generate');\n",
              "      buttonEl.style.display =\n",
              "        google.colab.kernel.accessAllowed ? 'block' : 'none';\n",
              "\n",
              "      buttonEl.onclick = () => {\n",
              "        google.colab.notebook.generateWithVariable('dataframe');\n",
              "      }\n",
              "      })();\n",
              "    </script>\n",
              "  </div>\n",
              "\n",
              "    </div>\n",
              "  </div>\n"
            ],
            "application/vnd.google.colaboratory.intrinsic+json": {
              "type": "dataframe",
              "variable_name": "dataframe",
              "summary": "{\n  \"name\": \"dataframe\",\n  \"rows\": 3,\n  \"fields\": [\n    {\n      \"column\": \"col A\",\n      \"properties\": {\n        \"dtype\": \"number\",\n        \"std\": 1,\n        \"min\": 1,\n        \"max\": 3,\n        \"num_unique_values\": 3,\n        \"samples\": [\n          1,\n          2,\n          3\n        ],\n        \"semantic_type\": \"\",\n        \"description\": \"\"\n      }\n    },\n    {\n      \"column\": \"col B\",\n      \"properties\": {\n        \"dtype\": \"number\",\n        \"std\": 1,\n        \"min\": 4,\n        \"max\": 6,\n        \"num_unique_values\": 3,\n        \"samples\": [\n          4,\n          5,\n          6\n        ],\n        \"semantic_type\": \"\",\n        \"description\": \"\"\n      }\n    },\n    {\n      \"column\": \"col C\",\n      \"properties\": {\n        \"dtype\": \"number\",\n        \"std\": 1,\n        \"min\": 7,\n        \"max\": 9,\n        \"num_unique_values\": 3,\n        \"samples\": [\n          7,\n          8,\n          9\n        ],\n        \"semantic_type\": \"\",\n        \"description\": \"\"\n      }\n    }\n  ]\n}"
            }
          },
          "metadata": {},
          "execution_count": 5
        }
      ],
      "source": [
        "data = {\n",
        "    \"col A\": [1, 2, 3],\n",
        "    \"col B\": [4, 5, 6],\n",
        "    \"col C\": [7, 8, 9]\n",
        "}\n",
        "\n",
        "dataframe = pd.DataFrame(data, index = [\"a\", \"b\", \"c\"])\n",
        "dataframe"
      ]
    },
    {
      "cell_type": "markdown",
      "id": "758e57bd",
      "metadata": {
        "id": "758e57bd"
      },
      "source": [
        "In this way, a custom index is provided for the columns (labeling the rows within a dictionary) and for the rows (with the `index` argument, as was the case with the series).\n",
        "\n",
        "In a DataFrame its elements can be accessed by index or by position. Below are some operations that can be performed using the above DataFrame:"
      ]
    },
    {
      "cell_type": "code",
      "execution_count": 6,
      "id": "258c47ff",
      "metadata": {
        "id": "258c47ff",
        "outputId": "005ba89a-b678-49cf-9c17-4b840caf7360",
        "colab": {
          "base_uri": "https://localhost:8080/"
        }
      },
      "outputs": [
        {
          "output_type": "stream",
          "name": "stdout",
          "text": [
            "a    1\n",
            "b    2\n",
            "c    3\n",
            "Name: col A, dtype: int64\n",
            "a    1\n",
            "b    2\n",
            "c    3\n",
            "Name: col A, dtype: int64\n",
            "a    1\n",
            "b    2\n",
            "c    3\n",
            "Name: col A, dtype: int64\n",
            "col A    1\n",
            "col B    4\n",
            "col C    7\n",
            "Name: a, dtype: int64\n",
            "col A    1\n",
            "col B    4\n",
            "col C    7\n",
            "Name: a, dtype: int64\n",
            "1\n",
            "1\n",
            "   col A  col B  col C  col D\n",
            "a      1      4      7     10\n",
            "b      2      5      8     11\n",
            "c      3      6      9     12\n",
            "   col A  col B  col C  col D\n",
            "a      1      4      7     10\n",
            "b      2      5      8     11\n",
            "c      3      6      9     12\n",
            "d     13     14     15     16\n",
            "   col A  col B  col C  col D\n",
            "a     10      4      7     10\n",
            "b     20      5      8     11\n",
            "c     30      6      9     12\n",
            "d    130     14     15     16\n",
            "col A    190\n",
            "col B     29\n",
            "col C     39\n",
            "col D     49\n",
            "dtype: int64\n"
          ]
        }
      ],
      "source": [
        "# Access all the data in a column\n",
        "print(dataframe[\"col A\"]) # By index\n",
        "print(dataframe.loc[:,\"col A\"]) # By index\n",
        "print(dataframe.iloc[:,0]) # By position\n",
        "\n",
        "# Access all the data in a row\n",
        "print(dataframe.loc[\"a\"]) # By index\n",
        "print(dataframe.iloc[0]) # By position\n",
        "\n",
        "# Access to a specific element (row, column)\n",
        "print(dataframe.loc[\"a\", \"col A\"]) # By index\n",
        "print(dataframe.iloc[0, 0]) # By position\n",
        "\n",
        "# Create a new column\n",
        "dataframe[\"col D\"] = [10, 11, 12]\n",
        "print(dataframe)\n",
        "\n",
        "# Create a new row\n",
        "dataframe.loc[\"d\"] = [13, 14, 15, 16]\n",
        "print(dataframe)\n",
        "\n",
        "# Multiply by 10 the elements of a column\n",
        "dataframe[\"col A\"] *= 10\n",
        "print(dataframe)\n",
        "\n",
        "# Calculate the sum of all elements\n",
        "sum_all = dataframe.sum()\n",
        "print(sum_all)"
      ]
    },
    {
      "cell_type": "markdown",
      "id": "1ac3bdaa",
      "metadata": {
        "id": "1ac3bdaa"
      },
      "source": [
        "### Functions in Python Pandas\n",
        "\n",
        "Pandas provide a large number of predefined functions that can be applied on the data structures seen above. Some of the most used in data analysis are:"
      ]
    },
    {
      "cell_type": "code",
      "execution_count": 7,
      "id": "9a54370c",
      "metadata": {
        "id": "9a54370c",
        "outputId": "8eda37c6-24a5-4877-f053-2110d2b812be",
        "colab": {
          "base_uri": "https://localhost:8080/"
        }
      },
      "outputs": [
        {
          "output_type": "stream",
          "name": "stdout",
          "text": [
            "Sum of series: 0    5\n",
            "1    7\n",
            "2    9\n",
            "dtype: int64\n",
            "Sum of DataFrames:     0   1   2\n",
            "0   8  10  12\n",
            "1  14  16  18\n",
            "Mean: 2.0\n",
            "Median: 2.0\n",
            "Number of elements: 3\n",
            "Standard deviation: 1.0\n",
            "Variance: 1.0\n",
            "Maximum value: 3\n",
            "Minimum value: 1\n",
            "Correlation: 1.0\n",
            "Statistic summary: count    3.0\n",
            "mean     2.0\n",
            "std      1.0\n",
            "min      1.0\n",
            "25%      1.5\n",
            "50%      2.0\n",
            "75%      2.5\n",
            "max      3.0\n",
            "dtype: float64\n"
          ]
        }
      ],
      "source": [
        "import pandas as pd\n",
        "\n",
        "s1 = pd.Series([1, 2, 3])\n",
        "s2 = pd.Series([4, 5, 6])\n",
        "d1 = pd.DataFrame([[1, 2, 3], [4, 5, 6]])\n",
        "d2 = pd.DataFrame([[7, 8, 9], [10, 11, 12]])\n",
        "\n",
        "# Arithmetic Operations\n",
        "print(\"Sum of series:\", s1.add(s2))\n",
        "print(\"Sum of DataFrames:\", d1.add(d2))\n",
        "\n",
        "# Statistical Operations\n",
        "# They can be applied in the same way to DataFrames\n",
        "print(\"Mean:\", s1.mean())\n",
        "print(\"Median:\", s1.median())\n",
        "print(\"Number of elements:\", s1.count())\n",
        "print(\"Standard deviation:\", s1.std())\n",
        "print(\"Variance:\", s1.var())\n",
        "print(\"Maximum value:\", s1.max())\n",
        "print(\"Minimum value:\", s1.min())\n",
        "print(\"Correlation:\", s1.corr(s2))\n",
        "print(\"Statistic summary:\", s1.describe())"
      ]
    },
    {
      "cell_type": "markdown",
      "id": "1837dc19",
      "metadata": {
        "id": "1837dc19"
      },
      "source": [
        "#### Pandas allows you to use custom python functions (including lambda)\n",
        "\n",
        "In addition to the Pandas predefined functions, we can also define and apply others to the data structures. To do this, we have to program the function to receive a value (or a column or row in the case of a DataFrame) and return another modified one, and reference it with `apply`.\n",
        "\n",
        "In addition, this function allows using **lambda expressions** for the anonymous declaration of functions.\n",
        "\n",
        "The following shows how to apply functions to series:"
      ]
    },
    {
      "cell_type": "code",
      "execution_count": 8,
      "id": "282d22bb",
      "metadata": {
        "id": "282d22bb",
        "outputId": "6acb662a-c1f0-4d14-f6ec-16743856cc97",
        "colab": {
          "base_uri": "https://localhost:8080/"
        }
      },
      "outputs": [
        {
          "output_type": "stream",
          "name": "stdout",
          "text": [
            "0     1\n",
            "1     4\n",
            "2     9\n",
            "3    16\n",
            "dtype: int64\n",
            "0     1\n",
            "1     4\n",
            "2     9\n",
            "3    16\n",
            "dtype: int64\n"
          ]
        }
      ],
      "source": [
        "import pandas as pd\n",
        "s = pd.Series([1, 2, 3, 4])\n",
        "\n",
        "# Explicit definition of the function\n",
        "def squared(x):\n",
        "    return x ** 2\n",
        "s1 = s.apply(squared)\n",
        "print(s1)\n",
        "\n",
        "# Anonymous definition of the function\n",
        "s2 = s.apply(lambda x: x ** 2)\n",
        "print(s2)"
      ]
    },
    {
      "cell_type": "markdown",
      "id": "40e3a3db",
      "metadata": {
        "id": "40e3a3db"
      },
      "source": [
        "The following shows how to apply functions to a DataFrame, which can be done by row, by column or by elements, similar to series:"
      ]
    },
    {
      "cell_type": "code",
      "execution_count": 9,
      "id": "7c96f45d",
      "metadata": {
        "id": "7c96f45d",
        "outputId": "a055d232-b35d-4dec-bdca-004a1daf690f",
        "colab": {
          "base_uri": "https://localhost:8080/"
        }
      },
      "outputs": [
        {
          "output_type": "stream",
          "name": "stdout",
          "text": [
            "   A  B\n",
            "0  1  4\n",
            "1  4  5\n",
            "2  9  6\n",
            "   A   B\n",
            "0  1  16\n",
            "1  4   5\n",
            "2  9   6\n",
            "    A    B\n",
            "0   1  256\n",
            "1  16   25\n",
            "2  81   36\n"
          ]
        },
        {
          "output_type": "stream",
          "name": "stderr",
          "text": [
            "<ipython-input-9-e3f5f1957f6d>:15: FutureWarning: DataFrame.applymap has been deprecated. Use DataFrame.map instead.\n",
            "  df = df.applymap(lambda x: x ** 2)\n"
          ]
        }
      ],
      "source": [
        "df = pd.DataFrame({\n",
        "    \"A\": [1, 2, 3],\n",
        "    \"B\": [4, 5, 6]\n",
        "})\n",
        "\n",
        "# Apply function along a column\n",
        "df[\"A\"] = df[\"A\"].apply(lambda x: x ** 2)\n",
        "print(df)\n",
        "\n",
        "# Apply function along a row\n",
        "df.loc[0] = df.loc[0].apply(lambda x: x ** 2)\n",
        "print(df)\n",
        "\n",
        "# Apply function to all elements\n",
        "df = df.applymap(lambda x: x ** 2)\n",
        "print(df)"
      ]
    },
    {
      "cell_type": "markdown",
      "id": "3acb43c7",
      "metadata": {
        "id": "3acb43c7"
      },
      "source": [
        "`apply` is more flexible than other vectorized Pandas functions, but can be slower, especially when applied to large data sets. It is always important to explore the Pandas or NumPy built-in functions first, as they are usually more efficient than the ones we could implement ourselves.\n",
        "\n",
        "Also, this function can return results in different ways, depending on the function applied and how it is configured."
      ]
    },
    {
      "cell_type": "markdown",
      "id": "a9f764b6",
      "metadata": {
        "id": "a9f764b6"
      },
      "source": [
        "## Start practicing the Pandas syntax in python righ now!\n",
        "\n",
        "> Click on Open in Colab to do the exercises\n",
        "\n",
        "> 🛟 Solutions: In this link you can find the [solutions for the following pandas exercises](https://4geeks.com/lesson/pandas-exercises-and-solutions).\n",
        "\n",
        "\n",
        "\n",
        "### Creation of Series and Pandas DataFrames"
      ]
    },
    {
      "cell_type": "markdown",
      "id": "e3c20b3d",
      "metadata": {
        "id": "e3c20b3d"
      },
      "source": [
        "#### Pandas Exercise 01: Create a Series from a list, a NumPy array and a dictionary (★☆☆)\n",
        "\n",
        "> NOTE: Review the class `pd.Series` (https://pandas.pydata.org/docs/reference/api/pandas.Series.html)"
      ]
    },
    {
      "cell_type": "code",
      "execution_count": 10,
      "id": "8a758bcf",
      "metadata": {
        "id": "8a758bcf",
        "outputId": "87eb5057-4fa8-48f1-db79-289df2e75ca3",
        "colab": {
          "base_uri": "https://localhost:8080/"
        }
      },
      "outputs": [
        {
          "output_type": "stream",
          "name": "stdout",
          "text": [
            "Series from list:\n",
            "0    1\n",
            "1    2\n",
            "2    3\n",
            "3    4\n",
            "4    5\n",
            "dtype: int64\n",
            "\n",
            "Series from NumPy array:\n",
            "0    10\n",
            "1    20\n",
            "2    30\n",
            "3    40\n",
            "4    50\n",
            "dtype: int64\n",
            "\n",
            "Series from dictionary:\n",
            "a    100\n",
            "b    200\n",
            "c    300\n",
            "dtype: int64\n"
          ]
        }
      ],
      "source": [
        "import pandas as pd\n",
        "import numpy as np\n",
        "\n",
        "list_series = pd.Series([1, 2, 3, 4, 5])\n",
        "\n",
        "np_array = np.array([10, 20, 30, 40, 50])\n",
        "numpy_series = pd.Series(np_array)\n",
        "\n",
        "dict_series = pd.Series({'a': 100, 'b': 200, 'c': 300})\n",
        "\n",
        "print(\"Series from list:\")\n",
        "print(list_series)\n",
        "print(\"\\nSeries from NumPy array:\")\n",
        "print(numpy_series)\n",
        "print(\"\\nSeries from dictionary:\")\n",
        "print(dict_series)"
      ]
    },
    {
      "cell_type": "markdown",
      "id": "cb8185b8",
      "metadata": {
        "id": "cb8185b8"
      },
      "source": [
        "#### Pandas Exercise 02: Create a DataFrame from a NumPy array, a dictionary and a list of tuples (★☆☆)\n",
        "\n",
        "> NOTE: Review the class `pd.DataFrame` (https://pandas.pydata.org/docs/reference/api/pandas.DataFrame.html)"
      ]
    },
    {
      "cell_type": "code",
      "execution_count": 11,
      "id": "16cc6699",
      "metadata": {
        "id": "16cc6699",
        "outputId": "ccae5c63-ee4c-429e-9fc3-4c26c3a8ce5c",
        "colab": {
          "base_uri": "https://localhost:8080/"
        }
      },
      "outputs": [
        {
          "output_type": "stream",
          "name": "stdout",
          "text": [
            "DataFrame from NumPy array:\n",
            "   A  B  C\n",
            "0  1  2  3\n",
            "1  4  5  6\n",
            "2  7  8  9\n",
            "\n",
            "DataFrame from dictionary:\n",
            "   X  Y  Z\n",
            "0  1  4  7\n",
            "1  2  5  8\n",
            "2  3  6  9\n",
            "\n",
            "DataFrame from list of tuples:\n",
            "      Name  Age\n",
            "0    Alice   25\n",
            "1      Bob   30\n",
            "2  Charlie   35\n"
          ]
        }
      ],
      "source": [
        "import pandas as pd\n",
        "import numpy as np\n",
        "\n",
        "np_array = np.array([[1, 2, 3], [4, 5, 6], [7, 8, 9]])\n",
        "df_numpy = pd.DataFrame(np_array, columns=['A', 'B', 'C'])\n",
        "\n",
        "dict_data = {'X': [1, 2, 3], 'Y': [4, 5, 6], 'Z': [7, 8, 9]}\n",
        "df_dict = pd.DataFrame(dict_data)\n",
        "\n",
        "list_of_tuples = [('Alice', 25), ('Bob', 30), ('Charlie', 35)]\n",
        "df_tuples = pd.DataFrame(list_of_tuples, columns=['Name', 'Age'])\n",
        "\n",
        "print(\"DataFrame from NumPy array:\")\n",
        "print(df_numpy)\n",
        "print(\"\\nDataFrame from dictionary:\")\n",
        "print(df_dict)\n",
        "print(\"\\nDataFrame from list of tuples:\")\n",
        "print(df_tuples)"
      ]
    },
    {
      "cell_type": "markdown",
      "id": "96424fb7",
      "metadata": {
        "id": "96424fb7"
      },
      "source": [
        "#### Pandas Exercise 03: Create 2 Series and use them to build a DataFrame (★☆☆)\n",
        "\n",
        "> NOTE: Review the functions `pd.concat` (https://pandas.pydata.org/docs/reference/api/pandas.concat.html) and `pd.Series.to_frame` (https://pandas.pydata.org/docs/reference/api/pandas.Series.to_frame.html)"
      ]
    },
    {
      "cell_type": "code",
      "execution_count": 12,
      "id": "36ff398e",
      "metadata": {
        "id": "36ff398e",
        "outputId": "29529864-d1bc-47d1-8963-8ccae1217e61",
        "colab": {
          "base_uri": "https://localhost:8080/"
        }
      },
      "outputs": [
        {
          "output_type": "stream",
          "name": "stdout",
          "text": [
            "DataFrame using pd.concat():\n",
            "   A  B\n",
            "0  1  a\n",
            "1  2  b\n",
            "2  3  c\n",
            "\n",
            "DataFrame using to_frame() and pd.concat():\n",
            "   A  B\n",
            "0  1  a\n",
            "1  2  b\n",
            "2  3  c\n"
          ]
        }
      ],
      "source": [
        "import pandas as pd\n",
        "\n",
        "series1 = pd.Series([1, 2, 3], name='A')\n",
        "series2 = pd.Series(['a', 'b', 'c'], name='B')\n",
        "\n",
        "df1 = pd.concat([series1, series2], axis=1)\n",
        "\n",
        "df2 = pd.concat([series1.to_frame(), series2.to_frame()], axis=1)\n",
        "\n",
        "print(\"DataFrame using pd.concat():\")\n",
        "print(df1)\n",
        "print(\"\\nDataFrame using to_frame() and pd.concat():\")\n",
        "print(df2)"
      ]
    },
    {
      "cell_type": "markdown",
      "id": "8caafb43",
      "metadata": {
        "id": "8caafb43"
      },
      "source": [
        "### Filtering and updating"
      ]
    },
    {
      "cell_type": "markdown",
      "id": "1499a0a6",
      "metadata": {
        "id": "1499a0a6"
      },
      "source": [
        "#### Exercise 04: Use the Series created in the previous exercise and select the positions of the elements of the first Series that are in the second Series (★★☆)\n",
        "\n",
        "> NOTE: Review the function `pd.Series.isin` (https://pandas.pydata.org/docs/reference/api/pandas.Series.isin.html)"
      ]
    },
    {
      "cell_type": "code",
      "execution_count": 13,
      "id": "5683a253",
      "metadata": {
        "id": "5683a253",
        "outputId": "f5743719-6461-466a-e709-1c74d0c5115e",
        "colab": {
          "base_uri": "https://localhost:8080/"
        }
      },
      "outputs": [
        {
          "output_type": "stream",
          "name": "stdout",
          "text": [
            "Positions of elements from series1 that are in series2:\n",
            "Index([], dtype='int64')\n"
          ]
        }
      ],
      "source": [
        "import pandas as pd\n",
        "\n",
        "series1 = pd.Series([1, 2, 3], name='A')\n",
        "series2 = pd.Series(['a', 'b', 'c'], name='B')\n",
        "\n",
        "positions = series1[series1.isin(series2)].index\n",
        "\n",
        "print(\"Positions of elements from series1 that are in series2:\")\n",
        "print(positions)"
      ]
    },
    {
      "cell_type": "markdown",
      "id": "4303b614",
      "metadata": {
        "id": "4303b614"
      },
      "source": [
        "#### Pandas Exercise 05: Use the series created in exercise 03 and list the elements that are not common between both series (★★☆)"
      ]
    },
    {
      "cell_type": "code",
      "execution_count": 14,
      "id": "477e01f4",
      "metadata": {
        "id": "477e01f4",
        "outputId": "4d802601-a973-43c8-b134-786236d55ead",
        "colab": {
          "base_uri": "https://localhost:8080/"
        }
      },
      "outputs": [
        {
          "output_type": "stream",
          "name": "stdout",
          "text": [
            "Elements not common between both Series:\n",
            "0    1\n",
            "1    2\n",
            "4    5\n",
            "2    6\n",
            "dtype: int64\n"
          ]
        }
      ],
      "source": [
        "import pandas as pd\n",
        "\n",
        "series1 = pd.Series([1, 2, 3], name='A')\n",
        "series2 = pd.Series(['a', 'b', 'c'], name='B')\n",
        "\n",
        "series1 = pd.Series([1, 2, 3, 4, 5], name='A')\n",
        "series2 = pd.Series([3, 4, 6], name='B')\n",
        "\n",
        "unique_to_series1 = series1[~series1.isin(series2)]\n",
        "\n",
        "unique_to_series2 = series2[~series2.isin(series1)]\n",
        "\n",
        "unique_elements = pd.concat([unique_to_series1, unique_to_series2])\n",
        "\n",
        "print(\"Elements not common between both Series:\")\n",
        "print(unique_elements)"
      ]
    },
    {
      "cell_type": "markdown",
      "id": "4e7ad59c",
      "metadata": {
        "id": "4e7ad59c"
      },
      "source": [
        "#### Pandas Exercise 06: Create a DataFrame of random numbers with 5 columns and 10 rows and sort one of its columns from smallest to largest (★★☆)\n",
        "\n",
        "> NOTE: Review the function `pd.DataFrame.sort_values` (https://pandas.pydata.org/docs/reference/api/pandas.DataFrame.sort_values.html)"
      ]
    },
    {
      "cell_type": "code",
      "execution_count": 15,
      "id": "82de9a71",
      "metadata": {
        "id": "82de9a71",
        "outputId": "e32f406a-37f3-4e8a-f0ae-e25ad5db0096",
        "colab": {
          "base_uri": "https://localhost:8080/"
        }
      },
      "outputs": [
        {
          "output_type": "stream",
          "name": "stdout",
          "text": [
            "Original DataFrame:\n",
            "          A         B         C         D         E\n",
            "0  0.939191  0.196285  0.071438  0.516954  0.319553\n",
            "1  0.656164  0.639695  0.575618  0.944495  0.511180\n",
            "2  0.888878  0.071385  0.555978  0.217500  0.460545\n",
            "3  0.430090  0.690706  0.209445  0.154015  0.134881\n",
            "4  0.286740  0.444770  0.582357  0.013079  0.089799\n",
            "5  0.243711  0.457144  0.216784  0.835383  0.652295\n",
            "6  0.697467  0.871535  0.801617  0.804317  0.595371\n",
            "7  0.294118  0.221641  0.203316  0.618906  0.595417\n",
            "8  0.130277  0.865990  0.680953  0.386365  0.221391\n",
            "9  0.036888  0.898207  0.479903  0.640945  0.926154\n",
            "\n",
            "Sorted DataFrame by column 'A':\n",
            "          A         B         C         D         E\n",
            "9  0.036888  0.898207  0.479903  0.640945  0.926154\n",
            "8  0.130277  0.865990  0.680953  0.386365  0.221391\n",
            "5  0.243711  0.457144  0.216784  0.835383  0.652295\n",
            "4  0.286740  0.444770  0.582357  0.013079  0.089799\n",
            "7  0.294118  0.221641  0.203316  0.618906  0.595417\n",
            "3  0.430090  0.690706  0.209445  0.154015  0.134881\n",
            "1  0.656164  0.639695  0.575618  0.944495  0.511180\n",
            "6  0.697467  0.871535  0.801617  0.804317  0.595371\n",
            "2  0.888878  0.071385  0.555978  0.217500  0.460545\n",
            "0  0.939191  0.196285  0.071438  0.516954  0.319553\n"
          ]
        }
      ],
      "source": [
        "import pandas as pd\n",
        "import numpy as np\n",
        "\n",
        "df = pd.DataFrame(np.random.rand(10, 5), columns=['A', 'B', 'C', 'D', 'E'])\n",
        "\n",
        "print(\"Original DataFrame:\")\n",
        "print(df)\n",
        "\n",
        "sorted_df = df.sort_values(by='A')\n",
        "\n",
        "print(\"\\nSorted DataFrame by column 'A':\")\n",
        "print(sorted_df)"
      ]
    },
    {
      "cell_type": "markdown",
      "id": "09f77d6a",
      "metadata": {
        "id": "09f77d6a"
      },
      "source": [
        "#### Pandas Exercise 07: Modify the name of the 5 columns of the above DataFrame to the following format: `N_column` where `N` is the column number (★★☆)\n",
        "\n",
        "> NOTE: Review the function `pd.DataFrame.sort_values` (https://pandas.pydata.org/docs/reference/api/pandas.DataFrame.sort_values.html)"
      ]
    },
    {
      "cell_type": "code",
      "execution_count": 16,
      "id": "6c65fe4f",
      "metadata": {
        "id": "6c65fe4f",
        "outputId": "4e871af3-0fe8-4e88-fad9-3187338fa7c9",
        "colab": {
          "base_uri": "https://localhost:8080/"
        }
      },
      "outputs": [
        {
          "output_type": "stream",
          "name": "stdout",
          "text": [
            "Original DataFrame:\n",
            "          A         B         C         D         E\n",
            "0  0.750176  0.466862  0.256039  0.576394  0.262099\n",
            "1  0.640608  0.809266  0.068855  0.550581  0.772940\n",
            "2  0.271473  0.991751  0.956188  0.224881  0.855688\n",
            "3  0.052681  0.071119  0.525334  0.877819  0.340791\n",
            "4  0.685784  0.718266  0.227832  0.112367  0.621804\n",
            "5  0.141340  0.982963  0.275152  0.793108  0.755218\n",
            "6  0.556250  0.451731  0.232450  0.376659  0.760146\n",
            "7  0.545083  0.250135  0.065563  0.036278  0.301566\n",
            "8  0.938825  0.835814  0.782046  0.355411  0.304794\n",
            "9  0.290068  0.638411  0.701186  0.398044  0.790873\n",
            "\n",
            "Modified DataFrame with new column names:\n",
            "   1_column  2_column  3_column  4_column  5_column\n",
            "0  0.750176  0.466862  0.256039  0.576394  0.262099\n",
            "1  0.640608  0.809266  0.068855  0.550581  0.772940\n",
            "2  0.271473  0.991751  0.956188  0.224881  0.855688\n",
            "3  0.052681  0.071119  0.525334  0.877819  0.340791\n",
            "4  0.685784  0.718266  0.227832  0.112367  0.621804\n",
            "5  0.141340  0.982963  0.275152  0.793108  0.755218\n",
            "6  0.556250  0.451731  0.232450  0.376659  0.760146\n",
            "7  0.545083  0.250135  0.065563  0.036278  0.301566\n",
            "8  0.938825  0.835814  0.782046  0.355411  0.304794\n",
            "9  0.290068  0.638411  0.701186  0.398044  0.790873\n"
          ]
        }
      ],
      "source": [
        "import pandas as pd\n",
        "import numpy as np\n",
        "\n",
        "df = pd.DataFrame(np.random.rand(10, 5), columns=['A', 'B', 'C', 'D', 'E'])\n",
        "\n",
        "print(\"Original DataFrame:\")\n",
        "print(df)\n",
        "\n",
        "df.columns = [f\"{i+1}_column\" for i in range(len(df.columns))]\n",
        "\n",
        "print(\"\\nModified DataFrame with new column names:\")\n",
        "print(df)"
      ]
    },
    {
      "cell_type": "markdown",
      "id": "c0e940f8",
      "metadata": {
        "id": "c0e940f8"
      },
      "source": [
        "#### Pandas Exercise 08: Modify the index of the rows of the DataFrame of exercise 06 (★★☆)\n",
        "\n",
        "> NOTE: Review the function `pd.DataFrame.sort_values` (https://pandas.pydata.org/docs/reference/api/pandas.DataFrame.sort_values.html)"
      ]
    },
    {
      "cell_type": "code",
      "execution_count": 18,
      "id": "820dc7a5",
      "metadata": {
        "id": "820dc7a5",
        "outputId": "a5d5d493-a499-4572-c09b-35212c3c6940",
        "colab": {
          "base_uri": "https://localhost:8080/"
        }
      },
      "outputs": [
        {
          "output_type": "stream",
          "name": "stdout",
          "text": [
            "Original DataFrame:\n",
            "   1_column  2_column  3_column  4_column  5_column\n",
            "0  0.914651  0.499411  0.933712  0.807287  0.724437\n",
            "1  0.436053  0.467197  0.015909  0.324260  0.023514\n",
            "2  0.056697  0.323284  0.652571  0.429841  0.058897\n",
            "3  0.209535  0.276741  0.385754  0.171705  0.647938\n",
            "4  0.567622  0.804385  0.063138  0.583950  0.470512\n",
            "5  0.054259  0.804631  0.244994  0.806892  0.253691\n",
            "6  0.648807  0.283969  0.147723  0.986722  0.456241\n",
            "7  0.667909  0.221894  0.778101  0.004891  0.606890\n",
            "8  0.856072  0.920912  0.600868  0.890097  0.485644\n",
            "9  0.253041  0.205380  0.994807  0.300769  0.563819\n",
            "\n",
            "Modified DataFrame with new row indices:\n",
            "        1_column  2_column  3_column  4_column  5_column\n",
            "Row_1   0.914651  0.499411  0.933712  0.807287  0.724437\n",
            "Row_2   0.436053  0.467197  0.015909  0.324260  0.023514\n",
            "Row_3   0.056697  0.323284  0.652571  0.429841  0.058897\n",
            "Row_4   0.209535  0.276741  0.385754  0.171705  0.647938\n",
            "Row_5   0.567622  0.804385  0.063138  0.583950  0.470512\n",
            "Row_6   0.054259  0.804631  0.244994  0.806892  0.253691\n",
            "Row_7   0.648807  0.283969  0.147723  0.986722  0.456241\n",
            "Row_8   0.667909  0.221894  0.778101  0.004891  0.606890\n",
            "Row_9   0.856072  0.920912  0.600868  0.890097  0.485644\n",
            "Row_10  0.253041  0.205380  0.994807  0.300769  0.563819\n"
          ]
        }
      ],
      "source": [
        "import pandas as pd\n",
        "import numpy as np\n",
        "\n",
        "df = pd.DataFrame(np.random.rand(10, 5), columns=['1_column', '2_column', '3_column', '4_column', '5_column'])\n",
        "\n",
        "print(\"Original DataFrame:\")\n",
        "print(df)\n",
        "\n",
        "df.index = [f'Row_{i+1}' for i in range(len(df))]\n",
        "\n",
        "print(\"\\nModified DataFrame with new row indices:\")\n",
        "print(df)"
      ]
    }
  ],
  "metadata": {
    "kernelspec": {
      "display_name": "Python 3",
      "language": "python",
      "name": "python3"
    },
    "language_info": {
      "codemirror_mode": {
        "name": "ipython",
        "version": 3
      },
      "file_extension": ".py",
      "mimetype": "text/x-python",
      "name": "python",
      "nbconvert_exporter": "python",
      "pygments_lexer": "ipython3",
      "version": "3.11.4"
    },
    "colab": {
      "provenance": [],
      "include_colab_link": true
    }
  },
  "nbformat": 4,
  "nbformat_minor": 5
}